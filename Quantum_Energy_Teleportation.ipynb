{
 "cells": [
  {
   "cell_type": "markdown",
   "metadata": {
    "colab_type": "text",
    "id": "view-in-github"
   },
   "source": [
    "<a href=\"https://colab.research.google.com/github/IKEDAKAZUKI/Quantum-Energy-Teleportation/blob/main/Quantum_Energy_Teleportation.ipynb\" target=\"_parent\"><img src=\"https://colab.research.google.com/assets/colab-badge.svg\" alt=\"Open In Colab\"/></a>"
   ]
  },
  {
   "cell_type": "markdown",
   "metadata": {
    "id": "eHVdcHbq0LeP"
   },
   "source": [
    "We demonstrate Quantum Energy Teleportation with Real Quantum Computers.\n",
    "More infortmation will be provided in my personal [website](https://kazukiikeda.studio.site/) and in the following references. \n",
    "\n",
    "\n",
    "---\n",
    "\n"
   ]
  },
  {
   "cell_type": "markdown",
   "metadata": {
    "id": "7n8QYoyIUV_T"
   },
   "source": [
    "The main reference for quantum energy teleportation using IBM's quantum computer is \n",
    "\n",
    "1. K. Ikeda, \"First Realization of Quantum Energy Teleportation on Superconducting Quantum Hardware\" [arXiv:2301.02666](https://arxiv.org/abs/2301.02666) (7 Jan 2023)\n",
    "\n",
    "Quantum energy teleportation on a long-range and large-scale quantum networks is addressed in \n",
    "2. K. Ikeda, \"Long-range quantum energy teleportation and distribution on a hyperbolic quantum network\", [arXiv:2301.11884](https://arxiv.org/abs/2301.11884) (27 Jan 2023)\n",
    "\n",
    "Physics implications of quantum energy teleportation are \n",
    "3. K. Ikeda, \"Criticality of quantum energy teleportation at phase transition points in quantum field theory\n",
    "\" [arXiv:2301.11712\n",
    "](https://arxiv.org/abs/2301.11712) (27 Jan 2023)\n",
    "\n",
    "4. K. Ikeda, \"Investigating global and topological order of states by local measurement and classical communication: Study on SPT phase diagrams by quantum energy teleportation\" [arXiv:2302.09630](https://arxiv.org/abs/2302.09630) (19 Feb 2023)"
   ]
  },
  {
   "cell_type": "markdown",
   "metadata": {
    "id": "lBhs1DLrrQ83"
   },
   "source": [
    "# Install Qiskit and packages"
   ]
  },
  {
   "cell_type": "markdown",
   "metadata": {
    "id": "X46GF96OaFPh"
   },
   "source": [
    "If Qiskit is not installed, please install it."
   ]
  },
  {
   "cell_type": "code",
   "execution_count": null,
   "metadata": {
    "colab": {
     "base_uri": "https://localhost:8080/"
    },
    "id": "FucTN8dILHOH",
    "outputId": "91b1d013-a3eb-4872-fb1e-13d375d4a9e2"
   },
   "outputs": [
    {
     "name": "stdout",
     "output_type": "stream",
     "text": [
      "Looking in indexes: https://pypi.org/simple, https://us-python.pkg.dev/colab-wheels/public/simple/\n",
      "Collecting qiskit\n",
      "  Downloading qiskit-0.41.0.tar.gz (14 kB)\n",
      "  Preparing metadata (setup.py) ... \u001b[?25l\u001b[?25hdone\n",
      "Collecting qiskit-terra==0.23.1\n",
      "  Downloading qiskit_terra-0.23.1-cp38-cp38-manylinux_2_17_x86_64.manylinux2014_x86_64.whl (5.1 MB)\n",
      "\u001b[2K     \u001b[90m━━━━━━━━━━━━━━━━━━━━━━━━━━━━━━━━━━━━━━━━\u001b[0m \u001b[32m5.1/5.1 MB\u001b[0m \u001b[31m40.1 MB/s\u001b[0m eta \u001b[36m0:00:00\u001b[0m\n",
      "\u001b[?25hCollecting qiskit-aer==0.11.2\n",
      "  Downloading qiskit_aer-0.11.2-cp38-cp38-manylinux_2_17_x86_64.manylinux2014_x86_64.whl (12.8 MB)\n",
      "\u001b[2K     \u001b[90m━━━━━━━━━━━━━━━━━━━━━━━━━━━━━━━━━━━━━━━━\u001b[0m \u001b[32m12.8/12.8 MB\u001b[0m \u001b[31m81.6 MB/s\u001b[0m eta \u001b[36m0:00:00\u001b[0m\n",
      "\u001b[?25hCollecting qiskit-ibmq-provider==0.20.0\n",
      "  Downloading qiskit_ibmq_provider-0.20.0-py3-none-any.whl (241 kB)\n",
      "\u001b[2K     \u001b[90m━━━━━━━━━━━━━━━━━━━━━━━━━━━━━━━━━━━━━━\u001b[0m \u001b[32m241.3/241.3 KB\u001b[0m \u001b[31m23.7 MB/s\u001b[0m eta \u001b[36m0:00:00\u001b[0m\n",
      "\u001b[?25hRequirement already satisfied: scipy>=1.0 in /usr/local/lib/python3.8/dist-packages (from qiskit-aer==0.11.2->qiskit) (1.7.3)\n",
      "Requirement already satisfied: numpy>=1.16.3 in /usr/local/lib/python3.8/dist-packages (from qiskit-aer==0.11.2->qiskit) (1.21.6)\n",
      "Requirement already satisfied: requests>=2.19 in /usr/local/lib/python3.8/dist-packages (from qiskit-ibmq-provider==0.20.0->qiskit) (2.25.1)\n",
      "Requirement already satisfied: python-dateutil>=2.8.0 in /usr/local/lib/python3.8/dist-packages (from qiskit-ibmq-provider==0.20.0->qiskit) (2.8.2)\n",
      "Collecting websocket-client<=1.3.3\n",
      "  Downloading websocket_client-1.3.3-py3-none-any.whl (54 kB)\n",
      "\u001b[2K     \u001b[90m━━━━━━━━━━━━━━━━━━━━━━━━━━━━━━━━━━━━━━━━\u001b[0m \u001b[32m54.3/54.3 KB\u001b[0m \u001b[31m5.7 MB/s\u001b[0m eta \u001b[36m0:00:00\u001b[0m\n",
      "\u001b[?25hRequirement already satisfied: urllib3>=1.21.1 in /usr/local/lib/python3.8/dist-packages (from qiskit-ibmq-provider==0.20.0->qiskit) (1.24.3)\n",
      "Collecting requests-ntlm>=1.1.0\n",
      "  Downloading requests_ntlm-1.2.0-py3-none-any.whl (6.0 kB)\n",
      "Collecting websockets>=10.0\n",
      "  Downloading websockets-10.4-cp38-cp38-manylinux_2_5_x86_64.manylinux1_x86_64.manylinux_2_17_x86_64.manylinux2014_x86_64.whl (106 kB)\n",
      "\u001b[2K     \u001b[90m━━━━━━━━━━━━━━━━━━━━━━━━━━━━━━━━━━━━━━\u001b[0m \u001b[32m107.0/107.0 KB\u001b[0m \u001b[31m12.2 MB/s\u001b[0m eta \u001b[36m0:00:00\u001b[0m\n",
      "\u001b[?25hRequirement already satisfied: psutil>=5 in /usr/local/lib/python3.8/dist-packages (from qiskit-terra==0.23.1->qiskit) (5.4.8)\n",
      "Collecting rustworkx>=0.12.0\n",
      "  Downloading rustworkx-0.12.1-cp38-cp38-manylinux_2_17_x86_64.manylinux2014_x86_64.whl (1.9 MB)\n",
      "\u001b[2K     \u001b[90m━━━━━━━━━━━━━━━━━━━━━━━━━━━━━━━━━━━━━━━━\u001b[0m \u001b[32m1.9/1.9 MB\u001b[0m \u001b[31m67.4 MB/s\u001b[0m eta \u001b[36m0:00:00\u001b[0m\n",
      "\u001b[?25hRequirement already satisfied: sympy>=1.3 in /usr/local/lib/python3.8/dist-packages (from qiskit-terra==0.23.1->qiskit) (1.7.1)\n",
      "Collecting symengine>=0.9\n",
      "  Downloading symengine-0.9.2-cp38-cp38-manylinux2010_x86_64.whl (37.5 MB)\n",
      "\u001b[2K     \u001b[90m━━━━━━━━━━━━━━━━━━━━━━━━━━━━━━━━━━━━━━━━\u001b[0m \u001b[32m37.5/37.5 MB\u001b[0m \u001b[31m14.3 MB/s\u001b[0m eta \u001b[36m0:00:00\u001b[0m\n",
      "\u001b[?25hCollecting stevedore>=3.0.0\n",
      "  Downloading stevedore-5.0.0-py3-none-any.whl (49 kB)\n",
      "\u001b[2K     \u001b[90m━━━━━━━━━━━━━━━━━━━━━━━━━━━━━━━━━━━━━━━━\u001b[0m \u001b[32m49.6/49.6 KB\u001b[0m \u001b[31m5.3 MB/s\u001b[0m eta \u001b[36m0:00:00\u001b[0m\n",
      "\u001b[?25hRequirement already satisfied: dill>=0.3 in /usr/local/lib/python3.8/dist-packages (from qiskit-terra==0.23.1->qiskit) (0.3.6)\n",
      "Collecting ply>=3.10\n",
      "  Downloading ply-3.11-py2.py3-none-any.whl (49 kB)\n",
      "\u001b[2K     \u001b[90m━━━━━━━━━━━━━━━━━━━━━━━━━━━━━━━━━━━━━━━━\u001b[0m \u001b[32m49.6/49.6 KB\u001b[0m \u001b[31m5.3 MB/s\u001b[0m eta \u001b[36m0:00:00\u001b[0m\n",
      "\u001b[?25hRequirement already satisfied: six>=1.5 in /usr/local/lib/python3.8/dist-packages (from python-dateutil>=2.8.0->qiskit-ibmq-provider==0.20.0->qiskit) (1.15.0)\n",
      "Requirement already satisfied: idna<3,>=2.5 in /usr/local/lib/python3.8/dist-packages (from requests>=2.19->qiskit-ibmq-provider==0.20.0->qiskit) (2.10)\n",
      "Requirement already satisfied: certifi>=2017.4.17 in /usr/local/lib/python3.8/dist-packages (from requests>=2.19->qiskit-ibmq-provider==0.20.0->qiskit) (2022.12.7)\n",
      "Requirement already satisfied: chardet<5,>=3.0.2 in /usr/local/lib/python3.8/dist-packages (from requests>=2.19->qiskit-ibmq-provider==0.20.0->qiskit) (4.0.0)\n",
      "Collecting cryptography>=1.3\n",
      "  Downloading cryptography-39.0.1-cp36-abi3-manylinux_2_28_x86_64.whl (4.2 MB)\n",
      "\u001b[2K     \u001b[90m━━━━━━━━━━━━━━━━━━━━━━━━━━━━━━━━━━━━━━━━\u001b[0m \u001b[32m4.2/4.2 MB\u001b[0m \u001b[31m62.2 MB/s\u001b[0m eta \u001b[36m0:00:00\u001b[0m\n",
      "\u001b[?25hCollecting pyspnego>=0.1.6\n",
      "  Downloading pyspnego-0.8.0-py3-none-any.whl (130 kB)\n",
      "\u001b[2K     \u001b[90m━━━━━━━━━━━━━━━━━━━━━━━━━━━━━━━━━━━━━━\u001b[0m \u001b[32m130.7/130.7 KB\u001b[0m \u001b[31m13.0 MB/s\u001b[0m eta \u001b[36m0:00:00\u001b[0m\n",
      "\u001b[?25hCollecting pbr!=2.1.0,>=2.0.0\n",
      "  Downloading pbr-5.11.1-py2.py3-none-any.whl (112 kB)\n",
      "\u001b[2K     \u001b[90m━━━━━━━━━━━━━━━━━━━━━━━━━━━━━━━━━━━━━━\u001b[0m \u001b[32m112.7/112.7 KB\u001b[0m \u001b[31m10.8 MB/s\u001b[0m eta \u001b[36m0:00:00\u001b[0m\n",
      "\u001b[?25hRequirement already satisfied: mpmath>=0.19 in /usr/local/lib/python3.8/dist-packages (from sympy>=1.3->qiskit-terra==0.23.1->qiskit) (1.2.1)\n",
      "Requirement already satisfied: cffi>=1.12 in /usr/local/lib/python3.8/dist-packages (from cryptography>=1.3->requests-ntlm>=1.1.0->qiskit-ibmq-provider==0.20.0->qiskit) (1.15.1)\n",
      "Requirement already satisfied: pycparser in /usr/local/lib/python3.8/dist-packages (from cffi>=1.12->cryptography>=1.3->requests-ntlm>=1.1.0->qiskit-ibmq-provider==0.20.0->qiskit) (2.21)\n",
      "Building wheels for collected packages: qiskit\n",
      "  Building wheel for qiskit (setup.py) ... \u001b[?25l\u001b[?25hdone\n",
      "  Created wheel for qiskit: filename=qiskit-0.41.0-py3-none-any.whl size=12845 sha256=1f78bd6285e55e48db0b636dfcef165ae3d06d20bba3dc2d160386f7e28787e5\n",
      "  Stored in directory: /root/.cache/pip/wheels/02/23/9b/72a4fd1b76354304e2e58883995a5d6ae15c1cbe2e2eb69441\n",
      "Successfully built qiskit\n",
      "Installing collected packages: ply, websockets, websocket-client, symengine, rustworkx, pbr, stevedore, cryptography, qiskit-terra, pyspnego, requests-ntlm, qiskit-aer, qiskit-ibmq-provider, qiskit\n",
      "Successfully installed cryptography-39.0.1 pbr-5.11.1 ply-3.11 pyspnego-0.8.0 qiskit-0.41.0 qiskit-aer-0.11.2 qiskit-ibmq-provider-0.20.0 qiskit-terra-0.23.1 requests-ntlm-1.2.0 rustworkx-0.12.1 stevedore-5.0.0 symengine-0.9.2 websocket-client-1.3.3 websockets-10.4\n"
     ]
    }
   ],
   "source": [
    "pip install qiskit"
   ]
  },
  {
   "cell_type": "code",
   "execution_count": 8,
   "metadata": {
    "id": "NHFIIsn4EZpO"
   },
   "outputs": [],
   "source": [
    "import numpy as np \n",
    "from qiskit import * #qiskit\n",
    "from qiskit.visualization import plot_histogram, plot_bloch_multivector, array_to_latex\n",
    "from qiskit import Aer\n",
    "from qiskit.extensions import Initialize\n",
    "from qiskit import QuantumCircuit, QuantumRegister, transpile, execute\n",
    "from qiskit.quantum_info import random_statevector\n",
    "from qiskit.quantum_info import partial_trace, entropy\n",
    "import qiskit.quantum_info as qi"
   ]
  },
  {
   "cell_type": "markdown",
   "metadata": {
    "id": "vl8Edh7-Equ2"
   },
   "source": [
    "We first get the simulator."
   ]
  },
  {
   "cell_type": "code",
   "execution_count": 9,
   "metadata": {
    "id": "ZgA4_XmtzxjP"
   },
   "outputs": [],
   "source": [
    "simulator = Aer.get_backend('qasm_simulator')"
   ]
  },
  {
   "cell_type": "markdown",
   "metadata": {
    "id": "ar--SJjE-0S2"
   },
   "source": [
    "# Definition of the model"
   ]
  },
  {
   "cell_type": "markdown",
   "metadata": {
    "id": "TX9eLLIP8NEj"
   },
   "source": [
    "We use the Hamiltonian $H=H_A+H_B+V$, where $H_A,H_B,V$ are Alice's Hamiltonian, Bob's Hamiltonian and the interaction term between Alice and Bob. Their explicit forms are\n",
    "\\begin{align}\n",
    "H_A&=kZ_0+\\frac{h^2}{\\sqrt{k^2+h^2}}\\\\\n",
    "H_B&=kZ_1+\\frac{h^2}{\\sqrt{k^2+h^2}}\\\\\n",
    "V&=2kX_0X_1+\\frac{2k^2}{\\sqrt{h^2+k^2}}\n",
    "\\end{align}\n",
    "\n",
    "The ground state $|g\\rangle$ of this Hamiltonian $H$ is \n",
    "\\begin{equation}\n",
    "|g\\rangle=\\frac{1}{\\sqrt{2}}\\sqrt{1-\\frac{h}{\\sqrt{h^2+k^2}}}|00\\rangle-\\frac{1}{\\sqrt{2}}\\sqrt{1+\\frac{h}{\\sqrt{h^2+k^2}}}|11\\rangle.\n",
    "\\end{equation}\n",
    "\n",
    "Note that the energy expectation value is fixed to 0 for each operator:\n",
    "\\begin{equation}\n",
    "\\langle g|H|g\\rangle=\\langle g|H_A|g\\rangle=\\langle g|H_B|g\\rangle=\\langle g|V|g\\rangle=0. \n",
    "\\end{equation}\n",
    "\n",
    "It is important that while $|g\\rangle$ is the ground state of $H$, it is not the ground state of $H_A,H_B,V$. In other words, Bob has a chance to decrese his local energy. How can he decrese his energy?"
   ]
  },
  {
   "cell_type": "markdown",
   "metadata": {
    "id": "QPemCGcPrAuY"
   },
   "source": [
    "# Generate the ground state"
   ]
  },
  {
   "cell_type": "markdown",
   "metadata": {
    "id": "KTVrV_c7Z8nf"
   },
   "source": [
    "Generating the ground state $|g\\rangle$ of the Hamiltonian is possible by the following circuit:"
   ]
  },
  {
   "cell_type": "code",
   "execution_count": null,
   "metadata": {
    "colab": {
     "base_uri": "https://localhost:8080/",
     "height": 125
    },
    "id": "jGegq56o5Uc3",
    "outputId": "0e493a4b-4d1a-4beb-81d4-e046faaf2a6f"
   },
   "outputs": [
    {
     "data": {
      "text/html": [
       "<pre style=\"word-wrap: normal;white-space: pre;background: #fff0;line-height: 1.1;font-family: &quot;Courier New&quot;,Courier,monospace\">        ┌─────────────┐     \n",
       "q158_0: ┤ Ry(-2.5536) ├──■──\n",
       "        └─────────────┘┌─┴─┐\n",
       "q158_1: ───────────────┤ X ├\n",
       "                       └───┘\n",
       " c31: 3/════════════════════\n",
       "                            </pre>"
      ],
      "text/plain": [
       "        ┌─────────────┐     \n",
       "q158_0: ┤ Ry(-2.5536) ├──■──\n",
       "        └─────────────┘┌─┴─┐\n",
       "q158_1: ───────────────┤ X ├\n",
       "                       └───┘\n",
       " c31: 3/════════════════════\n",
       "                            "
      ]
     },
     "execution_count": 104,
     "metadata": {},
     "output_type": "execute_result"
    }
   ],
   "source": [
    "\n",
    "qr = QuantumRegister(2)\n",
    "cr = ClassicalRegister(3)\n",
    "\n",
    "qc = QuantumCircuit(qr, cr)\n",
    "\n",
    "# Define the parameters\n",
    "k=1\n",
    "h=1.5\n",
    "\n",
    "#Prepare the ground state\n",
    "alpha=-np.arcsin((1/np.sqrt(2))*(np.sqrt(1+h/np.sqrt(h**2+k**2))))\n",
    "\n",
    "qc.ry(2*alpha,qr[0])\n",
    "qc.cx(qr[0],qr[1])\n",
    "\n",
    "qc.draw()"
   ]
  },
  {
   "cell_type": "markdown",
   "metadata": {
    "id": "iqCD87y97yP9"
   },
   "source": [
    "Compute the entanglement entropy of the ground state $S(|g\\rangle\\langle g|)$"
   ]
  },
  {
   "cell_type": "code",
   "execution_count": null,
   "metadata": {
    "colab": {
     "base_uri": "https://localhost:8080/"
    },
    "id": "26pBQd0XHm3g",
    "outputId": "91283a1a-649e-4c45-8750-a5ff098aff02"
   },
   "outputs": [
    {
     "name": "stdout",
     "output_type": "stream",
     "text": [
      "Entanglement entropy is 0.7219280948873625\n"
     ]
    }
   ],
   "source": [
    "stv = qi.Statevector.from_instruction(qc)\n",
    "\n",
    "sim = Aer.get_backend('aer_simulator_statevector')\n",
    "options = {'method': 'statevector'}\n",
    "execute(qc, sim, backend_options=options)\n",
    "\n",
    "stv.draw('text', prefix='ground state:')\n",
    "\n",
    "reduced_state = partial_trace(stv, [1])\n",
    "\n",
    "print(\"Entanglement entropy is\",entropy(reduced_state))"
   ]
  },
  {
   "cell_type": "markdown",
   "metadata": {
    "id": "WL73nME-AVDL"
   },
   "source": [
    "# Step 1: Alice's operation to inject energy into the system"
   ]
  },
  {
   "cell_type": "markdown",
   "metadata": {
    "id": "A512IZlSA_ex"
   },
   "source": [
    "Alice can inject energy into the system by measuring her qubit. Since $|g\\rangle$ is the ground state of the system, any operation to $|g\\rangle$ excites the energy. This corresponds to the energy that is injected by Alice's measurement device. \n",
    "\n",
    "We use \n",
    "\\begin{equation}\n",
    "P_A(\\mu)=\\frac{1}{2}(1+\\mu X_0),~\\mu\\in\\{-1,1\\}\n",
    "\\end{equation}\n",
    "for Alice's projective measurement. When she measures her qubit with $P_A(\\mu)$, she gets $\\mu=+1$ or $-1$. Suppose Alice repeates the measurement. Then her local energy is statistically\n",
    "\\begin{equation}\n",
    "E_A=\\sum_{\\mu\\in\\{0,1\\}}\\frac{1}{p_A(\\mu)}\\langle g|P_A(\\mu)H_AP_A(\\mu)|g\\rangle. \n",
    "\\end{equation}\n",
    "\n",
    "It is important that Alice's operation commuts $[P_A( \\mu), H_B+V]=0$ with $H_B$ and $V$, therefore Alice's measurement does not affect Bob's energy.\n",
    "\n",
    "For the $X$ measurement, we convert the basis vectors from $|0\\rangle,|1\\rangle$ into $|\\pm\\rangle=\\frac{|0\\rangle\\pm|1\\rangle}{\\sqrt{2}}$ using the Hadamard gate. The quantum circuit of Alice's measurement for the ground state $|g\\rangle$ is expressed as follows:"
   ]
  },
  {
   "cell_type": "code",
   "execution_count": null,
   "metadata": {
    "colab": {
     "base_uri": "https://localhost:8080/",
     "height": 125
    },
    "id": "DKHpF7lrAhpe",
    "outputId": "a2092ccf-902d-4f16-ea12-9c606bd2a37c"
   },
   "outputs": [
    {
     "data": {
      "text/html": [
       "<pre style=\"word-wrap: normal;white-space: pre;background: #fff0;line-height: 1.1;font-family: &quot;Courier New&quot;,Courier,monospace\">        ┌─────────────┐     ┌───┐┌─┐\n",
       "q158_0: ┤ Ry(-2.5536) ├──■──┤ H ├┤M├\n",
       "        └─────────────┘┌─┴─┐└───┘└╥┘\n",
       "q158_1: ───────────────┤ X ├──────╫─\n",
       "                       └───┘      ║ \n",
       " c31: 3/══════════════════════════╩═\n",
       "                                  0 </pre>"
      ],
      "text/plain": [
       "        ┌─────────────┐     ┌───┐┌─┐\n",
       "q158_0: ┤ Ry(-2.5536) ├──■──┤ H ├┤M├\n",
       "        └─────────────┘┌─┴─┐└───┘└╥┘\n",
       "q158_1: ───────────────┤ X ├──────╫─\n",
       "                       └───┘      ║ \n",
       " c31: 3/══════════════════════════╩═\n",
       "                                  0 "
      ]
     },
     "execution_count": 106,
     "metadata": {},
     "output_type": "execute_result"
    }
   ],
   "source": [
    "# Alice's projective measurement\n",
    "qc.h(qr[0])\n",
    "qc.measure(qr[0],cr[0])\n",
    "\n",
    "qc.draw()"
   ]
  },
  {
   "cell_type": "markdown",
   "metadata": {
    "id": "AkcUimUqFRko"
   },
   "source": [
    "# Step 2: Bob's conditional operations to get energy"
   ]
  },
  {
   "cell_type": "markdown",
   "metadata": {
    "id": "L9bBY0kxFauC"
   },
   "source": [
    "As soon as Alice observes $\\mu\\in\\{-1,+1\\}$, she tells it to Bob. Then Bob operates $U_B(\\mu)$ to his qubit and measures $H_B$ and $V$. Bob can compute the interaction term $V$ since he knows Alice's result $\\mu$.\n",
    "\n",
    "The explicite form of $U_B(\\mu)$ is given as \n",
    "\\begin{equation}\n",
    "U_B(\\mu)=R_Y(2\\mu\\phi),\n",
    "\\end{equation}\n",
    "where $\\phi$ obeys \n",
    "\\begin{align}\n",
    "    \\cos(2\\phi)&=\\frac{h^2+2k^2}{\\sqrt{(h^2+2k^2)^2+h^2k^2}}\\\\\n",
    "    \\sin(2\\phi)&=\\frac{hk}{\\sqrt{(h^2+2k^2)^2+h^2k^2}}.\n",
    "\\end{align}\n",
    "\n",
    "It is very important that Bob uses the same value $\\mu$ as Alice, otherwise the protocol will not work.\n",
    "For example, Bob can measure $V$ by the following circuit:"
   ]
  },
  {
   "cell_type": "code",
   "execution_count": null,
   "metadata": {
    "colab": {
     "base_uri": "https://localhost:8080/",
     "height": 140
    },
    "id": "umErblLWHXlj",
    "outputId": "7b0d353e-c4a1-42df-d436-a89f73a3852f"
   },
   "outputs": [
    {
     "data": {
      "text/html": [
       "<pre style=\"word-wrap: normal;white-space: pre;background: #fff0;line-height: 1.1;font-family: &quot;Courier New&quot;,Courier,monospace\">        ┌─────────────┐     ┌───┐┌─┐                                       \n",
       "q158_0: ┤ Ry(-2.5536) ├──■──┤ H ├┤M├───────────────────────────────────────\n",
       "        └─────────────┘┌─┴─┐└───┘└╥┘┌─────────────┐┌──────────────┐┌───┐┌─┐\n",
       "q158_1: ───────────────┤ X ├──────╫─┤ Ry(0.33929) ├┤ Ry(-0.33929) ├┤ H ├┤M├\n",
       "                       └───┘      ║ └──────╥──────┘└──────╥───────┘└───┘└╥┘\n",
       "                                  ║  ┌─────╨─────┐  ┌─────╨─────┐        ║ \n",
       " c31: 3/══════════════════════════╩══╡ c31_0=0x0 ╞══╡ c31_0=0x1 ╞════════╩═\n",
       "                                  0  └───────────┘  └───────────┘        2 </pre>"
      ],
      "text/plain": [
       "        ┌─────────────┐     ┌───┐┌─┐                                       \n",
       "q158_0: ┤ Ry(-2.5536) ├──■──┤ H ├┤M├───────────────────────────────────────\n",
       "        └─────────────┘┌─┴─┐└───┘└╥┘┌─────────────┐┌──────────────┐┌───┐┌─┐\n",
       "q158_1: ───────────────┤ X ├──────╫─┤ Ry(0.33929) ├┤ Ry(-0.33929) ├┤ H ├┤M├\n",
       "                       └───┘      ║ └──────╥──────┘└──────╥───────┘└───┘└╥┘\n",
       "                                  ║  ┌─────╨─────┐  ┌─────╨─────┐        ║ \n",
       " c31: 3/══════════════════════════╩══╡ c31_0=0x0 ╞══╡ c31_0=0x1 ╞════════╩═\n",
       "                                  0  └───────────┘  └───────────┘        2 "
      ]
     },
     "execution_count": 107,
     "metadata": {},
     "output_type": "execute_result"
    }
   ],
   "source": [
    "def sin(k,h):\n",
    "    return (h*k)/np.sqrt((h**2+2*k**2)**2+(h*k)**2)\n",
    "\n",
    "phi=0.5*np.arcsin(sin(k,h))\n",
    "\n",
    "qc.ry(2*phi,qr[1]).c_if(cr[0], 0)\n",
    "qc.ry(-2*phi,qr[1]).c_if(cr[0], 1)\n",
    "\n",
    "qc.h(qr[1])\n",
    "qc.measure(qr[1],cr[2])\n",
    "\n",
    "qc.draw()"
   ]
  },
  {
   "cell_type": "markdown",
   "metadata": {
    "id": "eRTZBF3gJg2f"
   },
   "source": [
    "After Alice and Bob repeate this process many times, Bob's energy expectation value becomes\n",
    "\n",
    "---\n",
    "\n",
    "\n",
    "\\begin{align}\n",
    "\\langle E_B\\rangle&=\\sum_{\\mu\\in\\{-1,1\\}}\\langle g|P_A(\\mu)U^\\dagger_B(\\mu)(H_B+V)U_B(\\mu)P_A(\\mu)|g\\rangle\\\\\n",
    "    &=-\\frac{1}{\\sqrt{h^2+k^2}}[hk\\sin(2\\phi)-(h^2+2k^2)(1-\\cos(2\\phi))],\n",
    "\\end{align}\n",
    "which is negative in general. \n",
    "\n",
    "Due to the energy conservation law, $-\\langle E_B\\rangle$ should be sent to Bob's device. This is how Bob can receive energy from Alice. "
   ]
  },
  {
   "cell_type": "markdown",
   "metadata": {
    "id": "lsUHF17B7don"
   },
   "source": [
    "#Free energy - guess the classical information"
   ]
  },
  {
   "cell_type": "code",
   "execution_count": null,
   "metadata": {},
   "outputs": [],
   "source": [
    "qr = QuantumRegister(2)\n",
    "cr = ClassicalRegister(3)\n",
    "\n",
    "qc = QuantumCircuit(qr, cr)\n",
    "\n",
    "# Define the parameters\n",
    "k=1\n",
    "h=1.5\n",
    "\n",
    "#Prepare the ground state\n",
    "alpha=-np.arcsin((1/np.sqrt(2))*(np.sqrt(1+h/np.sqrt(h**2+k**2))))\n",
    "\n",
    "qc.ry(2*alpha,qr[0])\n",
    "qc.cx(qr[0],qr[1])\n",
    "\n",
    "def sin(k,h):\n",
    "    return (h*k)/np.sqrt((h**2+2*k**2)**2+(h*k)**2)\n",
    "\n",
    "phi=0.5*np.arcsin(sin(k,h))\n",
    "\n",
    "qc.ry(2*phi,qr[1]).c_if(cr[0], 0)\n",
    "qc.ry(-2*phi,qr[1]).c_if(cr[0], 1)\n",
    "\n",
    "qc.h(qr[1])\n",
    "qc.measure(qr[1],cr[2])\n",
    "\n",
    "qc.draw()"
   ]
  },
  {
   "cell_type": "markdown",
   "metadata": {
    "id": "lsUHF17B7don"
   },
   "source": [
    "#Quantum Circuits for Quantum Energy Teleportation "
   ]
  },
  {
   "cell_type": "markdown",
   "metadata": {
    "id": "_QcBAkT-YSpP"
   },
   "source": [
    "The complete quantum circuite of quantum energy teleportation is given below. The default circuit corresponds to the measurement of the interaction term $V$. For the measurement of $H_B$, comment out qc.h(qr[1]) at the end of the circuit. "
   ]
  },
  {
   "cell_type": "code",
   "execution_count": null,
   "metadata": {
    "colab": {
     "base_uri": "https://localhost:8080/",
     "height": 125
    },
    "id": "2nx_NuBRYRxG",
    "outputId": "68958871-a368-49f1-881e-32ebfc351446"
   },
   "outputs": [
    {
     "data": {
      "text/html": [
       "<pre style=\"word-wrap: normal;white-space: pre;background: #fff0;line-height: 1.1;font-family: &quot;Courier New&quot;,Courier,monospace\">        ┌─────────────┐     ┌───┐                ┌───┐               ┌───┐\n",
       "q161_0: ┤ Ry(-2.5536) ├──■──┤ H ├───────■────────┤ X ├───────■───────┤ X ├\n",
       "        └─────────────┘┌─┴─┐└───┘┌──────┴───────┐└───┘┌──────┴──────┐├───┤\n",
       "q161_1: ───────────────┤ X ├─────┤ Ry(-0.33929) ├─────┤ Ry(0.33929) ├┤ H ├\n",
       "                       └───┘     └──────────────┘     └─────────────┘└───┘\n",
       " c32: 2/══════════════════════════════════════════════════════════════════\n",
       "                                                                          </pre>"
      ],
      "text/plain": [
       "        ┌─────────────┐     ┌───┐                ┌───┐               ┌───┐\n",
       "q161_0: ┤ Ry(-2.5536) ├──■──┤ H ├───────■────────┤ X ├───────■───────┤ X ├\n",
       "        └─────────────┘┌─┴─┐└───┘┌──────┴───────┐└───┘┌──────┴──────┐├───┤\n",
       "q161_1: ───────────────┤ X ├─────┤ Ry(-0.33929) ├─────┤ Ry(0.33929) ├┤ H ├\n",
       "                       └───┘     └──────────────┘     └─────────────┘└───┘\n",
       " c32: 2/══════════════════════════════════════════════════════════════════\n",
       "                                                                          "
      ]
     },
     "execution_count": 108,
     "metadata": {},
     "output_type": "execute_result"
    }
   ],
   "source": [
    "def sin(k,h):\n",
    "    return (h*k)/np.sqrt((h**2+2*k**2)**2+(h*k)**2)\n",
    "\n",
    "qr = QuantumRegister(2)\n",
    "cr = ClassicalRegister(2)\n",
    "\n",
    "qc = QuantumCircuit(qr, cr)\n",
    "\n",
    "# Define the parameters\n",
    "k=1\n",
    "h=1.5\n",
    "\n",
    "\n",
    "#Prepare the ground state\n",
    "alpha=-np.arcsin((1/np.sqrt(2))*(np.sqrt(1+h/np.sqrt(h**2+k**2))))\n",
    "\n",
    "qc.ry(2*alpha,qr[0])\n",
    "qc.cx(qr[0],qr[1])\n",
    "\n",
    "# Alice's projective measurement\n",
    "qc.h(qr[0])\n",
    "\n",
    "#Bob's conditional operation\n",
    "phi=0.5*np.arcsin(sin(k,h))\n",
    "qc.cry(-2*phi,qr[0],qr[1])\n",
    "\n",
    "qc.x(qr[0])\n",
    "qc.cry(2*phi,qr[0],qr[1])\n",
    "qc.x(qr[0])\n",
    "\n",
    "\n",
    "#Measurement of the interaction V\n",
    "# Comment out qc.h(qr[1]) below for the measurement of Bob's Z term\n",
    "qc.h(qr[1])\n",
    "\n",
    "qc.draw()\n"
   ]
  },
  {
   "cell_type": "markdown",
   "metadata": {
    "id": "MwLHq8xmL2af"
   },
   "source": [
    "In this circuit, we used the equivalent gates for Bob's conditional operations. Any conditional operation can be implemented equivalently by postponing Alice's measurement."
   ]
  },
  {
   "cell_type": "markdown",
   "metadata": {
    "id": "jBCGhVGP4wWG"
   },
   "source": [
    "Now let us execute the protocol.\n",
    "If we do not comment out qc.h(qr[1]) in the circuit above, $\\langle V\\rangle$ will be obtained. "
   ]
  },
  {
   "cell_type": "code",
   "execution_count": null,
   "metadata": {
    "id": "M-TqfOBnYxzu"
   },
   "outputs": [],
   "source": [
    "n_shots=100000\n",
    "\n",
    "qc_meas = QuantumCircuit(qr,cr)\n",
    "qc_meas.measure(qr,cr)\n",
    "#add main circuit to measurement circuit to have total circuit\n",
    "qc_total = qc.compose(qc_meas)  \n",
    "\n",
    "job = execute(qc_total, backend=simulator, shots=n_shots)\n",
    "result = job.result()\n",
    "counts = result.get_counts(qc) "
   ]
  },
  {
   "cell_type": "code",
   "execution_count": null,
   "metadata": {
    "colab": {
     "base_uri": "https://localhost:8080/",
     "height": 385
    },
    "id": "GHHx0S_-M2c2",
    "outputId": "704f56e8-b7bb-45d5-b15f-25d8966870d9"
   },
   "outputs": [
    {
     "name": "stdout",
     "output_type": "stream",
     "text": [
      "Alice's local energy 1.2444454415067656 STD is 0.004743402600560067\n",
      "Exact E_A 1.2480754415067656\n",
      "Interacting energy V -0.4894796075495416 STD is 0.006324549298092314\n"
     ]
    },
    {
     "data": {
      "image/png": "[encoded data removed]",
      "text/plain": [
       "<Figure size 504x360 with 1 Axes>"
      ]
     },
     "execution_count": 110,
     "metadata": {},
     "output_type": "execute_result"
    }
   ],
   "source": [
    "ene_A=(h**2)/(np.sqrt(h**2+k**2))\n",
    "#to compute the value of Bob's Z, comment out qc.h(qr[1]) in the circuit above and compute ene_B\n",
    "#ene_B=(h**2)/(np.sqrt(h**2+k**2))\n",
    "ene_V=(2*k**2)/(np.sqrt(h**2+k**2))\n",
    "error_A=[]\n",
    "error_B=[]\n",
    "error_V=[]\n",
    "for orig_bit_string, count in counts.items():\n",
    "        bit_string = orig_bit_string[::-1]\n",
    "        \n",
    "        \n",
    "        ene_A += h*(-1)**int(bit_string[0])*count/n_shots\n",
    "        #ene_B += h*(-1)**int(bit_string[1])*count/n_shots\n",
    "        ene_V += 2*k*(-1)**int(bit_string[0])*(-1)**int(bit_string[1])*count/n_shots\n",
    "        \n",
    "        \n",
    "        \n",
    "        for i in range(count):\n",
    "            error_A.append(h*(-1)**int(bit_string[0]))\n",
    "            #error_B.append(h*(-1)**int(bit_string[1]))\n",
    "            error_V.append(2*k*(-1)**(int(bit_string[1])))\n",
    "        \n",
    "\n",
    "\n",
    "print(\"Alice's local energy\",ene_A,\"STD is\",np.std(error_A)/np.sqrt(n_shots))\n",
    "print(\"Exact E_A\",h**2/np.sqrt(h**2+k**2))\n",
    "#print(\"Bob's local energy\",ene_B,\"STD is\",np.std(error_B)/np.sqrt(n_shots))\n",
    "\n",
    "print(\"Interacting energy V\",ene_V,\"STD is\",np.std(error_V)/np.sqrt(n_shots))\n",
    "\n",
    "\n",
    "\n",
    "plot_histogram(counts) "
   ]
  },
  {
   "cell_type": "markdown",
   "metadata": {
    "id": "uq5iJwLRSqRf"
   },
   "source": [
    "We found $\\langle V\\rangle$ negative as expected. ($\\langle H_B\\rangle$ is positive in general. )\n"
   ]
  },
  {
   "cell_type": "markdown",
   "metadata": {
    "id": "wLdnpRcfqo4R"
   },
   "source": [
    "# Quantum Energy Teleportation on a Real Quantum Computer"
   ]
  },
  {
   "cell_type": "markdown",
   "metadata": {
    "id": "nhLaA2hmJ3m8"
   },
   "source": [
    "Experience quantum teleportation with a real quantum device. \n",
    "Create your IBM token for free [here](https://quantum-computing.ibm.com/). \n",
    "You'll have access to 7-qubit and 5-qubit quantum computers.  "
   ]
  },
  {
   "cell_type": "code",
   "execution_count": null,
   "metadata": {
    "id": "VxbXgJkFzVjd"
   },
   "outputs": [],
   "source": [
    "# Enable your account on Qiskit, replace 'My_API_Token' with your newly generated token\n",
    "#qiskit.IBMQ.save_account('My_API_Token')\n",
    "qiskit.IBMQ.load_accounts()\n",
    "# After loading credentials we query the backends\n",
    "qiskit.IBMQ.backends()"
   ]
  },
  {
   "cell_type": "code",
   "execution_count": null,
   "metadata": {
    "id": "7AuttusGTdjL"
   },
   "outputs": [],
   "source": [
    "IBMQ.load_account()\n",
    "provider = IBMQ.get_provider(hub='ibm-q')"
   ]
  },
  {
   "cell_type": "markdown",
   "metadata": {
    "id": "5zhW3XO7TyKK"
   },
   "source": [
    "Get the least-busy IBM quantum computer."
   ]
  },
  {
   "cell_type": "code",
   "execution_count": null,
   "metadata": {
    "id": "jJPH9CVLTehA"
   },
   "outputs": [],
   "source": [
    "from qiskit.providers.ibmq import least_busy\n",
    "\n",
    "small_devices = provider.backends(filters=lambda x: x.configuration().n_qubits >= 0\n",
    "                                   and not x.configuration().simulator)\n",
    "backend=least_busy(small_devices)\n",
    "\n",
    "print(\"Name\", backend.name())\n",
    "print(\"Status\", backend.status())\n",
    "print(\"Limit\",backend.job_limit())\n",
    "print(\"Remaining Jobs\",backend.remaining_jobs_count())\n",
    "print(\"Number of Active Jobs\",backend.active_jobs())"
   ]
  },
  {
   "cell_type": "code",
   "execution_count": null,
   "metadata": {
    "id": "O0kh4mEfUA1o"
   },
   "outputs": [],
   "source": [
    "n_shots=2000\n",
    "qc_total = transpile(qc, backend)\n",
    "\n",
    "job = execute(qc_total, backend=backend, shots=n_shots)\n",
    "job.status()"
   ]
  },
  {
   "cell_type": "code",
   "execution_count": null,
   "metadata": {
    "id": "dg3WcMO7UUsQ"
   },
   "outputs": [],
   "source": [
    "results = job.result()\n",
    "counts = results.get_counts(qc_total) \n",
    "plot_histogram([counts])"
   ]
  },
  {
   "cell_type": "code",
   "execution_count": null,
   "metadata": {
    "id": "7PSwUWOzaatn"
   },
   "outputs": [],
   "source": [
    "ene_A=(h**2)/(np.sqrt(h**2+k**2))\n",
    "#to compute the value of Bob's Z, comment out qc.h(qr[1]) in the circuit above and compute ene_B\n",
    "#ene_B=(h**2)/(np.sqrt(h**2+k**2))\n",
    "ene_V=(2*k**2)/(np.sqrt(h**2+k**2))\n",
    "error_A=[]\n",
    "error_B=[]\n",
    "error_V=[]\n",
    "for orig_bit_string, count in counts.items():\n",
    "        bit_string = orig_bit_string[::-1]\n",
    "        \n",
    "        \n",
    "        ene_A += h*(-1)**int(bit_string[0])*count/n_shots\n",
    "        #ene_B += h*(-1)**int(bit_string[1])*count/n_shots\n",
    "        ene_V += 2*k*(-1)**int(bit_string[0])*(-1)**int(bit_string[1])*count/n_shots\n",
    "        \n",
    "        \n",
    "        \n",
    "        for i in range(count):\n",
    "            error_A.append(h*(-1)**int(bit_string[0]))\n",
    "            #error_B.append(h*(-1)**int(bit_string[1]))\n",
    "            error_V.append(2*k*(-1)**(int(bit_string[1])))\n",
    "        \n",
    "\n",
    "\n",
    "print(\"Alice's local energy\",ene_A,\"STD is\",np.std(error_A)/np.sqrt(n_shots))\n",
    "print(\"Exact E_A\",h**2/np.sqrt(h**2+k**2))\n",
    "#print(\"Bob's local energy\",ene_B,\"STD is\",np.std(error_B)/np.sqrt(n_shots))\n",
    "\n",
    "print(\"Interacting energy V\",ene_V,\"STD is\",np.std(error_V)/np.sqrt(n_shots))\n",
    "\n",
    "\n",
    "\n",
    "plot_histogram(counts) "
   ]
  },
  {
   "cell_type": "code",
   "execution_count": null,
   "metadata": {
    "id": "aP2nIJUBaQr2"
   },
   "outputs": [],
   "source": []
  }
 ],
 "metadata": {
  "colab": {
   "authorship_tag": "ABX9TyPMVRw28tvTMcZmzshUUvti",
   "include_colab_link": true,
   "provenance": [],
   "toc_visible": true
  },
  "kernelspec": {
   "display_name": "Python 3 (ipykernel)",
   "language": "python",
   "name": "python3"
  },
  "language_info": {
   "codemirror_mode": {
    "name": "ipython",
    "version": 3
   },
   "file_extension": ".py",
   "mimetype": "text/x-python",
   "name": "python",
   "nbconvert_exporter": "python",
   "pygments_lexer": "ipython3",
   "version": "3.10.6"
  }
 },
 "nbformat": 4,
 "nbformat_minor": 1
}
