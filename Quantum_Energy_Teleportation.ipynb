{
  "nbformat": 4,
  "nbformat_minor": 0,
  "metadata": {
    "colab": {
      "provenance": [],
      "toc_visible": true,
      "authorship_tag": "ABX9TyO2r+QnOHF5AGQFb8WhtTKb",
      "include_colab_link": true
    },
    "kernelspec": {
      "name": "python3",
      "display_name": "Python 3"
    },
    "language_info": {
      "name": "python"
    }
  },
  "cells": [
    {
      "cell_type": "markdown",
      "metadata": {
        "id": "view-in-github",
        "colab_type": "text"
      },
      "source": [
        "<a href=\"https://colab.research.google.com/github/IKEDAKAZUKI/Quantum-Energy-Teleportation/blob/main/Quantum_Energy_Teleportation.ipynb\" target=\"_parent\"><img src=\"https://colab.research.google.com/assets/colab-badge.svg\" alt=\"Open In Colab\"/></a>"
      ]
    },
    {
      "cell_type": "markdown",
      "source": [
        "I demonstrate Quantum Energy Teleportation with Real Quantum Computers.\n",
        "More infortmation will be provided in my personal [website](https://kazukiikeda.studio.site/) and in the following references.\n",
        "\n",
        "\n",
        "---\n",
        "\n"
      ],
      "metadata": {
        "id": "eHVdcHbq0LeP"
      }
    },
    {
      "cell_type": "markdown",
      "source": [
        "The main reference for quantum energy teleportation using IBM's quantum computer is\n",
        "\n",
        "1. K. Ikeda, \"Demonstration of Quantum Energy Teleportation on Superconducting Quantum Hardware\", [Physical Review Applied 20, 024051](https://journals.aps.org/prapplied/abstract/10.1103/PhysRevApplied.20.024051), Aug 21 (2023), [arXiv:2301.02666](https://arxiv.org/abs/2301.02666) (7 Jan 2023)\n",
        "\n",
        "Quantum energy teleportation on a long-range and large-scale quantum networks is addressed in\n",
        "\n",
        "2. K. Ikeda, \"Long-range quantum energy teleportation and distribution on a hyperbolic quantum network\", [IET Quantum Communication 1-8](https://doi.org/10.1049/qtc2.12090) (19 Feb 2024)\n",
        "\n",
        "Physics implications of quantum energy teleportation are\n",
        "\n",
        "3. K. Ikeda, \"Criticality of quantum energy teleportation at phase transition points in quantum field theory\" [Physical Review D 107, L071502](https://journals.aps.org/prd/abstract/10.1103/PhysRevD.107.L071502) (17 April 2023)\n",
        "\n",
        "4. K. Ikeda, \"Investigating global and topological order of states by local measurement and classical communication: Study on SPT phase diagrams by quantum energy teleportation\" [AVS Quantum Sci. 5, 035002 (2023)](https://doi.org/10.1116/5.0164999), [arXiv:2302.09630](https://arxiv.org/abs/2302.09630) (19 Feb 2023)\n",
        "\n",
        "5. K. Ikeda, R. Singh, R-J. Slager, \"Exploring Kondo effect by quantum energy teleportation\n",
        "\" [arXiv:2310.15936](https://arxiv.org/abs/2310.15936) (24 Oct 2023)\n",
        "\n",
        "Quantum Information studies of quantum energy teleportation are\n",
        "\n",
        "6. K. Ikeda, A. Lowe \"Quantum interactive proofs using quantum energy teleportation\n",
        "\" [arXiv:2306.08242](https://doi.org/10.48550/arXiv.2306.08242) (14 Jun 2023)\n",
        "\n",
        "7. K. Ikeda, A. Lowe \"Robustness of quantum correlation in quantum energy teleportation\n",
        "\" [arXiv:2402.00479](https://doi.org/10.48550/arXiv.2402.00479) (1 Feb 2024)\n"
      ],
      "metadata": {
        "id": "7n8QYoyIUV_T"
      }
    },
    {
      "cell_type": "markdown",
      "source": [
        "# Install Qiskit and packages"
      ],
      "metadata": {
        "id": "lBhs1DLrrQ83"
      }
    },
    {
      "cell_type": "markdown",
      "source": [
        "If Qiskit is not installed, please install it."
      ],
      "metadata": {
        "id": "X46GF96OaFPh"
      }
    },
    {
      "cell_type": "code",
      "execution_count": null,
      "metadata": {
        "colab": {
          "base_uri": "https://localhost:8080/"
        },
        "id": "FucTN8dILHOH",
        "outputId": "18f7d96e-33cc-4bad-cb62-4dd7a9a81733"
      },
      "outputs": [
        {
          "output_type": "stream",
          "name": "stdout",
          "text": [
            "Looking in indexes: https://pypi.org/simple, https://us-python.pkg.dev/colab-wheels/public/simple/\n",
            "Collecting qiskit\n",
            "  Downloading qiskit-0.42.1.tar.gz (14 kB)\n",
            "  Preparing metadata (setup.py) ... \u001b[?25l\u001b[?25hdone\n",
            "Collecting qiskit-terra==0.23.3\n",
            "  Downloading qiskit_terra-0.23.3-cp310-cp310-manylinux_2_17_x86_64.manylinux2014_x86_64.whl (5.1 MB)\n",
            "\u001b[2K     \u001b[90m━━━━━━━━━━━━━━━━━━━━━━━━━━━━━━━━━━━━━━━━\u001b[0m \u001b[32m5.1/5.1 MB\u001b[0m \u001b[31m14.0 MB/s\u001b[0m eta \u001b[36m0:00:00\u001b[0m\n",
            "\u001b[?25hCollecting qiskit-aer==0.12.0\n",
            "  Downloading qiskit_aer-0.12.0-cp310-cp310-manylinux_2_17_x86_64.manylinux2014_x86_64.whl (12.8 MB)\n",
            "\u001b[2K     \u001b[90m━━━━━━━━━━━━━━━━━━━━━━━━━━━━━━━━━━━━━━━━\u001b[0m \u001b[32m12.8/12.8 MB\u001b[0m \u001b[31m28.6 MB/s\u001b[0m eta \u001b[36m0:00:00\u001b[0m\n",
            "\u001b[?25hCollecting qiskit-ibmq-provider==0.20.2\n",
            "  Downloading qiskit_ibmq_provider-0.20.2-py3-none-any.whl (241 kB)\n",
            "\u001b[2K     \u001b[90m━━━━━━━━━━━━━━━━━━━━━━━━━━━━━━━━━━━━━━\u001b[0m \u001b[32m241.5/241.5 kB\u001b[0m \u001b[31m13.8 MB/s\u001b[0m eta \u001b[36m0:00:00\u001b[0m\n",
            "\u001b[?25hRequirement already satisfied: numpy>=1.16.3 in /usr/local/lib/python3.10/dist-packages (from qiskit-aer==0.12.0->qiskit) (1.22.4)\n",
            "Requirement already satisfied: scipy>=1.0 in /usr/local/lib/python3.10/dist-packages (from qiskit-aer==0.12.0->qiskit) (1.10.1)\n",
            "Requirement already satisfied: python-dateutil>=2.8.0 in /usr/local/lib/python3.10/dist-packages (from qiskit-ibmq-provider==0.20.2->qiskit) (2.8.2)\n",
            "Collecting websockets>=10.0\n",
            "  Downloading websockets-11.0.2-cp310-cp310-manylinux_2_5_x86_64.manylinux1_x86_64.manylinux_2_17_x86_64.manylinux2014_x86_64.whl (129 kB)\n",
            "\u001b[2K     \u001b[90m━━━━━━━━━━━━━━━━━━━━━━━━━━━━━━━━━━━━━━━\u001b[0m \u001b[32m129.9/129.9 kB\u001b[0m \u001b[31m6.7 MB/s\u001b[0m eta \u001b[36m0:00:00\u001b[0m\n",
            "\u001b[?25hRequirement already satisfied: urllib3>=1.21.1 in /usr/local/lib/python3.10/dist-packages (from qiskit-ibmq-provider==0.20.2->qiskit) (1.26.15)\n",
            "Requirement already satisfied: requests>=2.19 in /usr/local/lib/python3.10/dist-packages (from qiskit-ibmq-provider==0.20.2->qiskit) (2.27.1)\n",
            "Collecting requests-ntlm<=1.1.0\n",
            "  Downloading requests_ntlm-1.1.0-py2.py3-none-any.whl (5.7 kB)\n",
            "Requirement already satisfied: websocket-client>=1.5.1 in /usr/local/lib/python3.10/dist-packages (from qiskit-ibmq-provider==0.20.2->qiskit) (1.5.1)\n",
            "Collecting dill>=0.3\n",
            "  Downloading dill-0.3.6-py3-none-any.whl (110 kB)\n",
            "\u001b[2K     \u001b[90m━━━━━━━━━━━━━━━━━━━━━━━━━━━━━━━━━━━━━━━\u001b[0m \u001b[32m110.5/110.5 kB\u001b[0m \u001b[31m2.9 MB/s\u001b[0m eta \u001b[36m0:00:00\u001b[0m\n",
            "\u001b[?25hCollecting stevedore>=3.0.0\n",
            "  Downloading stevedore-5.0.0-py3-none-any.whl (49 kB)\n",
            "\u001b[2K     \u001b[90m━━━━━━━━━━━━━━━━━━━━━━━━━━━━━━━━━━━━━━━━\u001b[0m \u001b[32m49.6/49.6 kB\u001b[0m \u001b[31m2.1 MB/s\u001b[0m eta \u001b[36m0:00:00\u001b[0m\n",
            "\u001b[?25hRequirement already satisfied: sympy>=1.3 in /usr/local/lib/python3.10/dist-packages (from qiskit-terra==0.23.3->qiskit) (1.11.1)\n",
            "Collecting symengine>=0.9\n",
            "  Downloading symengine-0.10.0-cp310-cp310-manylinux_2_12_x86_64.manylinux2010_x86_64.whl (37.4 MB)\n",
            "\u001b[2K     \u001b[90m━━━━━━━━━━━━━━━━━━━━━━━━━━━━━━━━━━━━━━━━\u001b[0m \u001b[32m37.4/37.4 MB\u001b[0m \u001b[31m18.3 MB/s\u001b[0m eta \u001b[36m0:00:00\u001b[0m\n",
            "\u001b[?25hCollecting rustworkx>=0.12.0\n",
            "  Downloading rustworkx-0.12.1-cp310-cp310-manylinux_2_17_x86_64.manylinux2014_x86_64.whl (1.9 MB)\n",
            "\u001b[2K     \u001b[90m━━━━━━━━━━━━━━━━━━━━━━━━━━━━━━━━━━━━━━━━\u001b[0m \u001b[32m1.9/1.9 MB\u001b[0m \u001b[31m48.4 MB/s\u001b[0m eta \u001b[36m0:00:00\u001b[0m\n",
            "\u001b[?25hRequirement already satisfied: psutil>=5 in /usr/local/lib/python3.10/dist-packages (from qiskit-terra==0.23.3->qiskit) (5.9.5)\n",
            "Collecting ply>=3.10\n",
            "  Downloading ply-3.11-py2.py3-none-any.whl (49 kB)\n",
            "\u001b[2K     \u001b[90m━━━━━━━━━━━━━━━━━━━━━━━━━━━━━━━━━━━━━━━━\u001b[0m \u001b[32m49.6/49.6 kB\u001b[0m \u001b[31m3.8 MB/s\u001b[0m eta \u001b[36m0:00:00\u001b[0m\n",
            "\u001b[?25hRequirement already satisfied: six>=1.5 in /usr/local/lib/python3.10/dist-packages (from python-dateutil>=2.8.0->qiskit-ibmq-provider==0.20.2->qiskit) (1.16.0)\n",
            "Requirement already satisfied: certifi>=2017.4.17 in /usr/local/lib/python3.10/dist-packages (from requests>=2.19->qiskit-ibmq-provider==0.20.2->qiskit) (2022.12.7)\n",
            "Requirement already satisfied: idna<4,>=2.5 in /usr/local/lib/python3.10/dist-packages (from requests>=2.19->qiskit-ibmq-provider==0.20.2->qiskit) (3.4)\n",
            "Requirement already satisfied: charset-normalizer~=2.0.0 in /usr/local/lib/python3.10/dist-packages (from requests>=2.19->qiskit-ibmq-provider==0.20.2->qiskit) (2.0.12)\n",
            "Requirement already satisfied: cryptography>=1.3 in /usr/local/lib/python3.10/dist-packages (from requests-ntlm<=1.1.0->qiskit-ibmq-provider==0.20.2->qiskit) (40.0.2)\n",
            "Collecting ntlm-auth>=1.0.2\n",
            "  Downloading ntlm_auth-1.5.0-py2.py3-none-any.whl (29 kB)\n",
            "Collecting pbr!=2.1.0,>=2.0.0\n",
            "  Downloading pbr-5.11.1-py2.py3-none-any.whl (112 kB)\n",
            "\u001b[2K     \u001b[90m━━━━━━━━━━━━━━━━━━━━━━━━━━━━━━━━━━━━━━━\u001b[0m \u001b[32m112.7/112.7 kB\u001b[0m \u001b[31m1.3 MB/s\u001b[0m eta \u001b[36m0:00:00\u001b[0m\n",
            "\u001b[?25hRequirement already satisfied: mpmath>=0.19 in /usr/local/lib/python3.10/dist-packages (from sympy>=1.3->qiskit-terra==0.23.3->qiskit) (1.3.0)\n",
            "Requirement already satisfied: cffi>=1.12 in /usr/local/lib/python3.10/dist-packages (from cryptography>=1.3->requests-ntlm<=1.1.0->qiskit-ibmq-provider==0.20.2->qiskit) (1.15.1)\n",
            "Requirement already satisfied: pycparser in /usr/local/lib/python3.10/dist-packages (from cffi>=1.12->cryptography>=1.3->requests-ntlm<=1.1.0->qiskit-ibmq-provider==0.20.2->qiskit) (2.21)\n",
            "Building wheels for collected packages: qiskit\n",
            "  Building wheel for qiskit (setup.py) ... \u001b[?25l\u001b[?25hdone\n",
            "  Created wheel for qiskit: filename=qiskit-0.42.1-py3-none-any.whl size=12938 sha256=fa246c64807c47dc700510de9f124387fdb583d8a9d6c9ea9fff5f8fb72cef5f\n",
            "  Stored in directory: /root/.cache/pip/wheels/99/db/fa/cd33542aa8da5d5a2978cf2683dabf2ae67c732185a5cdb5a4\n",
            "Successfully built qiskit\n",
            "Installing collected packages: ply, websockets, symengine, rustworkx, pbr, ntlm-auth, dill, stevedore, requests-ntlm, qiskit-terra, qiskit-ibmq-provider, qiskit-aer, qiskit\n",
            "Successfully installed dill-0.3.6 ntlm-auth-1.5.0 pbr-5.11.1 ply-3.11 qiskit-0.42.1 qiskit-aer-0.12.0 qiskit-ibmq-provider-0.20.2 qiskit-terra-0.23.3 requests-ntlm-1.1.0 rustworkx-0.12.1 stevedore-5.0.0 symengine-0.10.0 websockets-11.0.2\n"
          ]
        }
      ],
      "source": [
        "pip install qiskit"
      ]
    },
    {
      "cell_type": "code",
      "source": [
        "import numpy as np\n",
        "from qiskit import * #qiskit\n",
        "from qiskit.visualization import plot_histogram, plot_bloch_multivector, array_to_latex\n",
        "from qiskit import Aer\n",
        "from qiskit.extensions import Initialize\n",
        "from qiskit import QuantumCircuit, QuantumRegister, transpile, execute\n",
        "from qiskit.quantum_info import random_statevector\n",
        "from qiskit.quantum_info import partial_trace, entropy\n",
        "import qiskit.quantum_info as qi"
      ],
      "metadata": {
        "id": "NHFIIsn4EZpO"
      },
      "execution_count": null,
      "outputs": []
    },
    {
      "cell_type": "markdown",
      "source": [
        "We first get the simulator."
      ],
      "metadata": {
        "id": "vl8Edh7-Equ2"
      }
    },
    {
      "cell_type": "code",
      "source": [
        "simulator = Aer.get_backend('qasm_simulator')"
      ],
      "metadata": {
        "id": "ZgA4_XmtzxjP"
      },
      "execution_count": null,
      "outputs": []
    },
    {
      "cell_type": "markdown",
      "source": [
        "# Definition of the model"
      ],
      "metadata": {
        "id": "ar--SJjE-0S2"
      }
    },
    {
      "cell_type": "markdown",
      "source": [
        "We use the Hamiltonian $H=H_A+H_B+V$, where $H_A,H_B,V$ are Alice's Hamiltonian, Bob's Hamiltonian and the interaction term between Alice and Bob. Their explicit forms are\n",
        "\\begin{align}\n",
        "H_A&=kZ_0+\\frac{h^2}{\\sqrt{k^2+h^2}}\\\\\n",
        "H_B&=kZ_1+\\frac{h^2}{\\sqrt{k^2+h^2}}\\\\\n",
        "V&=2kX_0X_1+\\frac{2k^2}{\\sqrt{h^2+k^2}}\n",
        "\\end{align}\n",
        "\n",
        "The ground state $|g\\rangle$ of this Hamiltonian $H$ is\n",
        "\\begin{equation}\n",
        "|g\\rangle=\\frac{1}{\\sqrt{2}}\\sqrt{1-\\frac{h}{\\sqrt{h^2+k^2}}}|00\\rangle-\\frac{1}{\\sqrt{2}}\\sqrt{1+\\frac{h}{\\sqrt{h^2+k^2}}}|11\\rangle.\n",
        "\\end{equation}\n",
        "\n",
        "Note that the energy expectation value is fixed to 0 for each operator:\n",
        "\\begin{equation}\n",
        "\\langle g|H|g\\rangle=\\langle g|H_A|g\\rangle=\\langle g|H_B|g\\rangle=\\langle g|V|g\\rangle=0.\n",
        "\\end{equation}\n",
        "\n",
        "It is important that while $|g\\rangle$ is the ground state of $H$, it is not the ground state of $H_A,H_B,V$. In other words, Bob has a chance to decrese his local energy. How can he decrese his energy?"
      ],
      "metadata": {
        "id": "TX9eLLIP8NEj"
      }
    },
    {
      "cell_type": "markdown",
      "source": [
        "# Generate the ground state"
      ],
      "metadata": {
        "id": "QPemCGcPrAuY"
      }
    },
    {
      "cell_type": "markdown",
      "source": [
        "Generating the ground state $|g\\rangle$ of the Hamiltonian is possible by the following circuit:"
      ],
      "metadata": {
        "id": "KTVrV_c7Z8nf"
      }
    },
    {
      "cell_type": "code",
      "source": [
        "qr = QuantumRegister(2)\n",
        "cr = ClassicalRegister(3)\n",
        "\n",
        "qc = QuantumCircuit(qr, cr)\n",
        "\n",
        "# Define the parameters\n",
        "k=1\n",
        "h=1.5\n",
        "\n",
        "#Prepare the ground state\n",
        "alpha=-np.arcsin((1/np.sqrt(2))*(np.sqrt(1+h/np.sqrt(h**2+k**2))))\n",
        "\n",
        "qc.ry(2*alpha,qr[0])\n",
        "qc.cx(qr[0],qr[1])\n",
        "\n",
        "qc.draw()"
      ],
      "metadata": {
        "colab": {
          "base_uri": "https://localhost:8080/",
          "height": 125
        },
        "id": "jGegq56o5Uc3",
        "outputId": "778d4acd-55e7-4bf9-8da7-cd8d9f7f5ec4"
      },
      "execution_count": null,
      "outputs": [
        {
          "output_type": "execute_result",
          "data": {
            "text/plain": [
              "      ┌─────────────┐     \n",
              "q0_0: ┤ Ry(-2.5536) ├──■──\n",
              "      └─────────────┘┌─┴─┐\n",
              "q0_1: ───────────────┤ X ├\n",
              "                     └───┘\n",
              "c0: 3/════════════════════\n",
              "                          "
            ],
            "text/html": [
              "<pre style=\"word-wrap: normal;white-space: pre;background: #fff0;line-height: 1.1;font-family: &quot;Courier New&quot;,Courier,monospace\">      ┌─────────────┐     \n",
              "q0_0: ┤ Ry(-2.5536) ├──■──\n",
              "      └─────────────┘┌─┴─┐\n",
              "q0_1: ───────────────┤ X ├\n",
              "                     └───┘\n",
              "c0: 3/════════════════════\n",
              "                          </pre>"
            ]
          },
          "metadata": {},
          "execution_count": 5
        }
      ]
    },
    {
      "cell_type": "markdown",
      "source": [
        "# Step 1: Alice's operation to inject energy into the system"
      ],
      "metadata": {
        "id": "WL73nME-AVDL"
      }
    },
    {
      "cell_type": "markdown",
      "source": [
        "Alice can inject energy into the system by measuring her qubit. Since $|g\\rangle$ is the ground state of the system, any operation to $|g\\rangle$ excites the energy. This corresponds to the energy that is injected by Alice's measurement device.\n",
        "\n",
        "We use\n",
        "\\begin{equation}\n",
        "P_A(\\mu)=\\frac{1}{2}(1+\\mu X_0),~\\mu\\in\\{-1,1\\}\n",
        "\\end{equation}\n",
        "for Alice's projective measurement. When she measures her qubit with $P_A(\\mu)$, she gets $\\mu=+1$ or $-1$. Suppose Alice repeates the measurement. Then her local energy is statistically\n",
        "\\begin{equation}\n",
        "E_A=\\sum_{\\mu\\in\\{0,1\\}}\\frac{1}{p_A(\\mu)}\\langle g|P_A(\\mu)H_AP_A(\\mu)|g\\rangle.\n",
        "\\end{equation}\n",
        "\n",
        "It is important that Alice's operation commuts $[P_A( \\mu), H_B+V]=0$ with $H_B$ and $V$, therefore Alice's measurement does not affect Bob's energy.\n",
        "\n",
        "For the $X$ measurement, we convert the basis vectors from $|0\\rangle,|1\\rangle$ into $|\\pm\\rangle=\\frac{|0\\rangle\\pm|1\\rangle}{\\sqrt{2}}$ using the Hadamard gate. The quantum circuit of Alice's measurement for the ground state $|g\\rangle$ is expressed as follows:"
      ],
      "metadata": {
        "id": "A512IZlSA_ex"
      }
    },
    {
      "cell_type": "code",
      "source": [
        "# Alice's projective measurement\n",
        "qc.h(qr[0])\n",
        "qc.measure(qr[0],cr[0])\n",
        "\n",
        "qc.draw()"
      ],
      "metadata": {
        "colab": {
          "base_uri": "https://localhost:8080/",
          "height": 125
        },
        "id": "DKHpF7lrAhpe",
        "outputId": "16650a16-212c-419d-93e5-756e28ea0d8a"
      },
      "execution_count": null,
      "outputs": [
        {
          "output_type": "execute_result",
          "data": {
            "text/plain": [
              "      ┌─────────────┐     ┌───┐┌─┐\n",
              "q0_0: ┤ Ry(-2.5536) ├──■──┤ H ├┤M├\n",
              "      └─────────────┘┌─┴─┐└───┘└╥┘\n",
              "q0_1: ───────────────┤ X ├──────╫─\n",
              "                     └───┘      ║ \n",
              "c0: 3/══════════════════════════╩═\n",
              "                                0 "
            ],
            "text/html": [
              "<pre style=\"word-wrap: normal;white-space: pre;background: #fff0;line-height: 1.1;font-family: &quot;Courier New&quot;,Courier,monospace\">      ┌─────────────┐     ┌───┐┌─┐\n",
              "q0_0: ┤ Ry(-2.5536) ├──■──┤ H ├┤M├\n",
              "      └─────────────┘┌─┴─┐└───┘└╥┘\n",
              "q0_1: ───────────────┤ X ├──────╫─\n",
              "                     └───┘      ║ \n",
              "c0: 3/══════════════════════════╩═\n",
              "                                0 </pre>"
            ]
          },
          "metadata": {},
          "execution_count": 6
        }
      ]
    },
    {
      "cell_type": "markdown",
      "source": [
        "# Step 2: Bob's conditional operations to get energy"
      ],
      "metadata": {
        "id": "AkcUimUqFRko"
      }
    },
    {
      "cell_type": "markdown",
      "source": [
        "As soon as Alice observes $\\mu\\in\\{-1,+1\\}$, she tells it to Bob. Then Bob operates $U_B(\\mu)$ to his qubit and measures $H_B$ and $V$. Bob can compute the interaction term $V$ since he knows Alice's result $\\mu$.\n",
        "\n",
        "The explicite form of $U_B(\\mu)$ is given as\n",
        "\\begin{equation}\n",
        "U_B(\\mu)=R_Y(2\\mu\\phi),\n",
        "\\end{equation}\n",
        "where $\\phi$ obeys\n",
        "\\begin{align}\n",
        "    \\cos(2\\phi)&=\\frac{h^2+2k^2}{\\sqrt{(h^2+2k^2)^2+h^2k^2}}\\\\\n",
        "    \\sin(2\\phi)&=\\frac{hk}{\\sqrt{(h^2+2k^2)^2+h^2k^2}}.\n",
        "\\end{align}\n",
        "\n",
        "It is very important that Bob uses the same value $\\mu$ as Alice, otherwise the protocol will not work.\n",
        "For example, Bob can measure $V$ by the following circuit:"
      ],
      "metadata": {
        "id": "L9bBY0kxFauC"
      }
    },
    {
      "cell_type": "code",
      "source": [
        "def sin(k,h):\n",
        "    return (h*k)/np.sqrt((h**2+2*k**2)**2+(h*k)**2)\n",
        "\n",
        "phi=0.5*np.arcsin(sin(k,h))\n",
        "\n",
        "qc.ry(2*phi,qr[1]).c_if(cr[0], 0)\n",
        "qc.ry(-2*phi,qr[1]).c_if(cr[0], 1)\n",
        "\n",
        "qc.h(qr[1])\n",
        "qc.measure(qr[1],cr[2])\n",
        "\n",
        "qc.draw()"
      ],
      "metadata": {
        "colab": {
          "base_uri": "https://localhost:8080/",
          "height": 140
        },
        "id": "umErblLWHXlj",
        "outputId": "3db55f8a-50a3-4ac4-fee4-f7402aaa0d9d"
      },
      "execution_count": null,
      "outputs": [
        {
          "output_type": "execute_result",
          "data": {
            "text/plain": [
              "      ┌─────────────┐     ┌───┐┌─┐                                       \n",
              "q0_0: ┤ Ry(-2.5536) ├──■──┤ H ├┤M├───────────────────────────────────────\n",
              "      └─────────────┘┌─┴─┐└───┘└╥┘┌─────────────┐┌──────────────┐┌───┐┌─┐\n",
              "q0_1: ───────────────┤ X ├──────╫─┤ Ry(0.33929) ├┤ Ry(-0.33929) ├┤ H ├┤M├\n",
              "                     └───┘      ║ └──────╥──────┘└──────╥───────┘└───┘└╥┘\n",
              "                                ║   ┌────╨─────┐   ┌────╨─────┐        ║ \n",
              "c0: 3/══════════════════════════╩═══╡ c0_0=0x0 ╞═══╡ c0_0=0x1 ╞════════╩═\n",
              "                                0   └──────────┘   └──────────┘        2 "
            ],
            "text/html": [
              "<pre style=\"word-wrap: normal;white-space: pre;background: #fff0;line-height: 1.1;font-family: &quot;Courier New&quot;,Courier,monospace\">      ┌─────────────┐     ┌───┐┌─┐                                       \n",
              "q0_0: ┤ Ry(-2.5536) ├──■──┤ H ├┤M├───────────────────────────────────────\n",
              "      └─────────────┘┌─┴─┐└───┘└╥┘┌─────────────┐┌──────────────┐┌───┐┌─┐\n",
              "q0_1: ───────────────┤ X ├──────╫─┤ Ry(0.33929) ├┤ Ry(-0.33929) ├┤ H ├┤M├\n",
              "                     └───┘      ║ └──────╥──────┘└──────╥───────┘└───┘└╥┘\n",
              "                                ║   ┌────╨─────┐   ┌────╨─────┐        ║ \n",
              "c0: 3/══════════════════════════╩═══╡ c0_0=0x0 ╞═══╡ c0_0=0x1 ╞════════╩═\n",
              "                                0   └──────────┘   └──────────┘        2 </pre>"
            ]
          },
          "metadata": {},
          "execution_count": 7
        }
      ]
    },
    {
      "cell_type": "markdown",
      "source": [
        "After Alice and Bob repeate this process many times, Bob's energy expectation value becomes\n",
        "\n",
        "---\n",
        "\n",
        "\n",
        "\\begin{align}\n",
        "\\langle E_B\\rangle&=\\sum_{\\mu\\in\\{-1,1\\}}\\langle g|P_A(\\mu)U^\\dagger_B(\\mu)(H_B+V)U_B(\\mu)P_A(\\mu)|g\\rangle\\\\\n",
        "    &=-\\frac{1}{\\sqrt{h^2+k^2}}[hk\\sin(2\\phi)-(h^2+2k^2)(1-\\cos(2\\phi))],\n",
        "\\end{align}\n",
        "which is negative in general.\n",
        "\n",
        "Due to the energy conservation law, $-\\langle E_B\\rangle$ should be sent to Bob's device. This is how Bob can receive energy from Alice."
      ],
      "metadata": {
        "id": "eRTZBF3gJg2f"
      }
    },
    {
      "cell_type": "markdown",
      "source": [
        "#Quantum Circuits for Quantum Energy Teleportation"
      ],
      "metadata": {
        "id": "lsUHF17B7don"
      }
    },
    {
      "cell_type": "markdown",
      "source": [
        "The complete quantum circuite of quantum energy teleportation is given below. The default circuit corresponds to the measurement of the interaction term $V$. For the measurement of $H_B$, comment out qc.h(qr[1]) at the end of the circuit."
      ],
      "metadata": {
        "id": "_QcBAkT-YSpP"
      }
    },
    {
      "cell_type": "code",
      "source": [
        "def sin(k,h):\n",
        "    return (h*k)/np.sqrt((h**2+2*k**2)**2+(h*k)**2)\n",
        "\n",
        "qr = QuantumRegister(2)\n",
        "cr = ClassicalRegister(2)\n",
        "\n",
        "qc = QuantumCircuit(qr, cr)\n",
        "\n",
        "# Define the parameters\n",
        "k=1\n",
        "h=1.5\n",
        "\n",
        "\n",
        "#Prepare the ground state\n",
        "alpha=-np.arcsin((1/np.sqrt(2))*(np.sqrt(1+h/np.sqrt(h**2+k**2))))\n",
        "\n",
        "qc.ry(2*alpha,qr[0])\n",
        "qc.cx(qr[0],qr[1])\n",
        "\n",
        "# Alice's projective measurement\n",
        "qc.h(qr[0])\n",
        "\n",
        "#Bob's conditional operation\n",
        "phi=0.5*np.arcsin(sin(k,h))\n",
        "qc.cry(-2*phi,qr[0],qr[1])\n",
        "\n",
        "qc.x(qr[0])\n",
        "qc.cry(2*phi,qr[0],qr[1])\n",
        "qc.x(qr[0])\n",
        "\n",
        "\n",
        "#Measurement of the interaction V\n",
        "# Comment out qc.h(qr[1]) below for the measurement of Bob's Z term\n",
        "qc.h(qr[1])\n",
        "\n",
        "qc.draw()\n"
      ],
      "metadata": {
        "colab": {
          "base_uri": "https://localhost:8080/",
          "height": 125
        },
        "id": "2nx_NuBRYRxG",
        "outputId": "68958871-a368-49f1-881e-32ebfc351446"
      },
      "execution_count": null,
      "outputs": [
        {
          "output_type": "execute_result",
          "data": {
            "text/plain": [
              "        ┌─────────────┐     ┌───┐                ┌───┐               ┌───┐\n",
              "q161_0: ┤ Ry(-2.5536) ├──■──┤ H ├───────■────────┤ X ├───────■───────┤ X ├\n",
              "        └─────────────┘┌─┴─┐└───┘┌──────┴───────┐└───┘┌──────┴──────┐├───┤\n",
              "q161_1: ───────────────┤ X ├─────┤ Ry(-0.33929) ├─────┤ Ry(0.33929) ├┤ H ├\n",
              "                       └───┘     └──────────────┘     └─────────────┘└───┘\n",
              " c32: 2/══════════════════════════════════════════════════════════════════\n",
              "                                                                          "
            ],
            "text/html": [
              "<pre style=\"word-wrap: normal;white-space: pre;background: #fff0;line-height: 1.1;font-family: &quot;Courier New&quot;,Courier,monospace\">        ┌─────────────┐     ┌───┐                ┌───┐               ┌───┐\n",
              "q161_0: ┤ Ry(-2.5536) ├──■──┤ H ├───────■────────┤ X ├───────■───────┤ X ├\n",
              "        └─────────────┘┌─┴─┐└───┘┌──────┴───────┐└───┘┌──────┴──────┐├───┤\n",
              "q161_1: ───────────────┤ X ├─────┤ Ry(-0.33929) ├─────┤ Ry(0.33929) ├┤ H ├\n",
              "                       └───┘     └──────────────┘     └─────────────┘└───┘\n",
              " c32: 2/══════════════════════════════════════════════════════════════════\n",
              "                                                                          </pre>"
            ]
          },
          "metadata": {},
          "execution_count": 108
        }
      ]
    },
    {
      "cell_type": "markdown",
      "source": [
        "In this circuit, we used the equivalent gates for Bob's conditional operations. Any conditional operation can be implemented equivalently by postponing Alice's measurement."
      ],
      "metadata": {
        "id": "MwLHq8xmL2af"
      }
    },
    {
      "cell_type": "markdown",
      "source": [
        "Now let us execute the protocol.\n",
        "If we do not comment out qc.h(qr[1]) in the circuit above, $\\langle V\\rangle$ will be obtained."
      ],
      "metadata": {
        "id": "jBCGhVGP4wWG"
      }
    },
    {
      "cell_type": "code",
      "source": [
        "n_shots=100000\n",
        "\n",
        "qc_meas = QuantumCircuit(qr,cr)\n",
        "qc_meas.measure(qr,cr)\n",
        "#add main circuit to measurement circuit to have total circuit\n",
        "qc_total = qc.compose(qc_meas)\n",
        "\n",
        "job = execute(qc_total, backend=simulator, shots=n_shots)\n",
        "result = job.result()\n",
        "counts = result.get_counts(qc)"
      ],
      "metadata": {
        "id": "M-TqfOBnYxzu"
      },
      "execution_count": null,
      "outputs": []
    },
    {
      "cell_type": "code",
      "source": [
        "ene_A=(h**2)/(np.sqrt(h**2+k**2))\n",
        "#to compute the value of Bob's Z, comment out qc.h(qr[1]) in the circuit above and compute ene_B\n",
        "#ene_B=(h**2)/(np.sqrt(h**2+k**2))\n",
        "ene_V=(2*k**2)/(np.sqrt(h**2+k**2))\n",
        "error_A=[]\n",
        "error_B=[]\n",
        "error_V=[]\n",
        "for orig_bit_string, count in counts.items():\n",
        "        bit_string = orig_bit_string[::-1]\n",
        "\n",
        "\n",
        "        ene_A += h*(-1)**int(bit_string[0])*count/n_shots\n",
        "        #ene_B += h*(-1)**int(bit_string[1])*count/n_shots\n",
        "        ene_V += 2*k*(-1)**int(bit_string[0])*(-1)**int(bit_string[1])*count/n_shots\n",
        "\n",
        "\n",
        "\n",
        "        for i in range(count):\n",
        "            error_A.append(h*(-1)**int(bit_string[0]))\n",
        "            #error_B.append(h*(-1)**int(bit_string[1]))\n",
        "            error_V.append(2*k*(-1)**(int(bit_string[1])))\n",
        "\n",
        "\n",
        "\n",
        "print(\"Alice's local energy\",ene_A,\"STD is\",np.std(error_A)/np.sqrt(n_shots))\n",
        "print(\"Exact E_A\",h**2/np.sqrt(h**2+k**2))\n",
        "#print(\"Bob's local energy\",ene_B,\"STD is\",np.std(error_B)/np.sqrt(n_shots))\n",
        "\n",
        "print(\"Interacting energy V\",ene_V,\"STD is\",np.std(error_V)/np.sqrt(n_shots))\n",
        "\n",
        "\n",
        "\n",
        "plot_histogram(counts)"
      ],
      "metadata": {
        "colab": {
          "base_uri": "https://localhost:8080/",
          "height": 385
        },
        "id": "GHHx0S_-M2c2",
        "outputId": "704f56e8-b7bb-45d5-b15f-25d8966870d9"
      },
      "execution_count": null,
      "outputs": [
        {
          "output_type": "stream",
          "name": "stdout",
          "text": [
            "Alice's local energy 1.2444454415067656 STD is 0.004743402600560067\n",
            "Exact E_A 1.2480754415067656\n",
            "Interacting energy V -0.4894796075495416 STD is 0.006324549298092314\n"
          ]
        },
        {
          "output_type": "execute_result",
          "data": {
            "text/plain": [
              "<Figure size 504x360 with 1 Axes>"
            ],
            "image/png": "[encoded data removed]"
          },
          "metadata": {},
          "execution_count": 110
        }
      ]
    },
    {
      "cell_type": "markdown",
      "source": [
        "We found $\\langle V\\rangle$ negative as expected. ($\\langle H_B\\rangle$ is positive in general. )\n"
      ],
      "metadata": {
        "id": "uq5iJwLRSqRf"
      }
    },
    {
      "cell_type": "markdown",
      "source": [
        "# Quantum Energy Teleportation on a Real Quantum Computer"
      ],
      "metadata": {
        "id": "wLdnpRcfqo4R"
      }
    },
    {
      "cell_type": "markdown",
      "source": [
        "Experience quantum teleportation with a real quantum device.\n",
        "Create your IBM token for free [here](https://quantum-computing.ibm.com/).\n",
        "You'll have access to 7-qubit and 5-qubit quantum computers.  "
      ],
      "metadata": {
        "id": "nhLaA2hmJ3m8"
      }
    },
    {
      "cell_type": "code",
      "source": [
        "# Enable your account on Qiskit, replace 'My_API_Token' with your newly generated token\n",
        "#qiskit.IBMQ.save_account('My_API_Token')\n",
        "qiskit.IBMQ.load_accounts()\n",
        "# After loading credentials we query the backends\n",
        "qiskit.IBMQ.backends()"
      ],
      "metadata": {
        "id": "xChp8WcF5cRY"
      },
      "execution_count": null,
      "outputs": []
    },
    {
      "cell_type": "code",
      "source": [
        "IBMQ.load_account()\n",
        "provider = IBMQ.get_provider(hub='ibm-q')"
      ],
      "metadata": {
        "id": "7AuttusGTdjL"
      },
      "execution_count": null,
      "outputs": []
    },
    {
      "cell_type": "markdown",
      "source": [
        "Get the least-busy IBM quantum computer."
      ],
      "metadata": {
        "id": "5zhW3XO7TyKK"
      }
    },
    {
      "cell_type": "code",
      "source": [
        "from qiskit.providers.ibmq import least_busy\n",
        "\n",
        "small_devices = provider.backends(filters=lambda x: x.configuration().n_qubits >= 0\n",
        "                                   and not x.configuration().simulator)\n",
        "backend=least_busy(small_devices)\n",
        "\n",
        "print(\"Name\", backend.name())\n",
        "print(\"Status\", backend.status())\n",
        "print(\"Limit\",backend.job_limit())\n",
        "print(\"Remaining Jobs\",backend.remaining_jobs_count())\n",
        "print(\"Number of Active Jobs\",backend.active_jobs())"
      ],
      "metadata": {
        "id": "jJPH9CVLTehA"
      },
      "execution_count": null,
      "outputs": []
    },
    {
      "cell_type": "markdown",
      "source": [
        "##Get your machine properties (Example: ibmq_lima)"
      ],
      "metadata": {
        "id": "_vZraCBA32cR"
      }
    },
    {
      "cell_type": "code",
      "source": [
        "from qiskit.visualization import plot_error_map\n",
        "A=plot_error_map(backend)\n",
        "A.tight_layout()\n",
        "A.savefig(f'{backend}_error.png')\n",
        "A"
      ],
      "metadata": {
        "id": "WIgIGDtl48am",
        "colab": {
          "base_uri": "https://localhost:8080/",
          "height": 615
        },
        "outputId": "dc3ad841-ff07-4021-f5aa-a3b950844fbc"
      },
      "execution_count": null,
      "outputs": [
        {
          "output_type": "execute_result",
          "data": {
            "text/plain": [
              "<Figure size 1200x900 with 5 Axes>"
            ],
            "image/png": "[encoded data removed]"
          },
          "metadata": {},
          "execution_count": 24
        }
      ]
    },
    {
      "cell_type": "code",
      "source": [
        "props = backend.properties()\n",
        "\n",
        "def describe_qubit(qubit, properties):\n",
        "    \"\"\"Print a string describing some of reported properties of the given qubit.\"\"\"\n",
        "\n",
        "    # Conversion factors from standard SI units\n",
        "    us = 1e6\n",
        "    ns = 1e9\n",
        "    GHz = 1e-9\n",
        "\n",
        "    print(\"Qubit {0} has a \\n\"\n",
        "          \"  - T1 time of {1} microseconds\\n\"\n",
        "          \"  - T2 time of {2} microseconds\\n\"\n",
        "          \"  - U2 gate error of {3}\\n\"\n",
        "          \"  - U2 gate duration of {4} nanoseconds\\n\"\n",
        "          \"  - resonant frequency of {5} GHz\".format(\n",
        "              qubit,\n",
        "              properties.t1(qubit) * us,\n",
        "              properties.t2(qubit) * us,\n",
        "              properties.gate_error('sx', qubit),\n",
        "              properties.gate_length('sx', qubit) * ns,\n",
        "              properties.frequency(qubit) * GHz))\n",
        "\n",
        "describe_qubit(0, props)"
      ],
      "metadata": {
        "id": "n40opiIx3zgJ",
        "colab": {
          "base_uri": "https://localhost:8080/"
        },
        "outputId": "9eaccf82-76bf-48b3-847c-8d435c51b271"
      },
      "execution_count": null,
      "outputs": [
        {
          "output_type": "stream",
          "name": "stdout",
          "text": [
            "Qubit 0 has a \n",
            "  - T1 time of 145.42507914149948 microseconds\n",
            "  - T2 time of 156.43315345804777 microseconds\n",
            "  - U2 gate error of 0.0005398773433853443\n",
            "  - U2 gate duration of 35.55555555555556 nanoseconds\n",
            "  - resonant frequency of 5.029744108574529 GHz\n"
          ]
        }
      ]
    },
    {
      "cell_type": "markdown",
      "source": [
        "U2 date duration time (about 35ns) is the time it takes for energy to be teleported to the receiver by QET. This is much shorter than the time scale (the duration of a CNOT-gate) that the energy naturally propagates to the receiver in the unitary time evolution (about 300 ns)."
      ],
      "metadata": {
        "id": "nAG2ZEQX8Gg4"
      }
    },
    {
      "cell_type": "markdown",
      "source": [
        "For example, the CNOT duration between 0th and 1st qubits is obtained by"
      ],
      "metadata": {
        "id": "Yoqvg1dXDLKs"
      }
    },
    {
      "cell_type": "code",
      "source": [
        "print(backend.properties().gate_length('cx',[0,1])*1e9,\"ns\")"
      ],
      "metadata": {
        "colab": {
          "base_uri": "https://localhost:8080/"
        },
        "id": "-1JXmYnMAuDJ",
        "outputId": "8b44915e-7a30-4693-db2f-981796d276d5"
      },
      "execution_count": null,
      "outputs": [
        {
          "output_type": "stream",
          "name": "stdout",
          "text": [
            "305.77777777777777 ns\n"
          ]
        }
      ]
    },
    {
      "cell_type": "markdown",
      "source": [
        "##Start Quantum Energy Teleportation with your quantum device."
      ],
      "metadata": {
        "id": "lQXGYjZ34Vis"
      }
    },
    {
      "cell_type": "code",
      "source": [
        "n_shots=2000\n",
        "qc_total = transpile(qc, backend)\n",
        "\n",
        "job = execute(qc_total, backend=backend, shots=n_shots)\n",
        "job.status()"
      ],
      "metadata": {
        "id": "O0kh4mEfUA1o"
      },
      "execution_count": null,
      "outputs": []
    },
    {
      "cell_type": "code",
      "source": [
        "results = job.result()\n",
        "counts = results.get_counts(qc_total)\n",
        "plot_histogram([counts])"
      ],
      "metadata": {
        "id": "dg3WcMO7UUsQ"
      },
      "execution_count": null,
      "outputs": []
    },
    {
      "cell_type": "code",
      "source": [
        "ene_A=(h**2)/(np.sqrt(h**2+k**2))\n",
        "#to compute the value of Bob's Z, comment out qc.h(qr[1]) in the circuit above and compute ene_B\n",
        "#ene_B=(h**2)/(np.sqrt(h**2+k**2))\n",
        "ene_V=(2*k**2)/(np.sqrt(h**2+k**2))\n",
        "error_A=[]\n",
        "error_B=[]\n",
        "error_V=[]\n",
        "for orig_bit_string, count in counts.items():\n",
        "        bit_string = orig_bit_string[::-1]\n",
        "\n",
        "\n",
        "        ene_A += h*(-1)**int(bit_string[0])*count/n_shots\n",
        "        #ene_B += h*(-1)**int(bit_string[1])*count/n_shots\n",
        "        ene_V += 2*k*(-1)**int(bit_string[0])*(-1)**int(bit_string[1])*count/n_shots\n",
        "\n",
        "\n",
        "\n",
        "        for i in range(count):\n",
        "            error_A.append(h*(-1)**int(bit_string[0]))\n",
        "            #error_B.append(h*(-1)**int(bit_string[1]))\n",
        "            error_V.append(2*k*(-1)**(int(bit_string[1])))\n",
        "\n",
        "\n",
        "\n",
        "print(\"Alice's local energy\",ene_A,\"STD is\",np.std(error_A)/np.sqrt(n_shots))\n",
        "print(\"Exact E_A\",h**2/np.sqrt(h**2+k**2))\n",
        "#print(\"Bob's local energy\",ene_B,\"STD is\",np.std(error_B)/np.sqrt(n_shots))\n",
        "\n",
        "print(\"Interacting energy V\",ene_V,\"STD is\",np.std(error_V)/np.sqrt(n_shots))\n",
        "\n",
        "\n",
        "\n",
        "plot_histogram(counts)"
      ],
      "metadata": {
        "id": "7PSwUWOzaatn"
      },
      "execution_count": null,
      "outputs": []
    }
  ]
}