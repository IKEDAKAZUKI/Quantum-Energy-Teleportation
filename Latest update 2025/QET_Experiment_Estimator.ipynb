{
 "cells": [
  {
   "cell_type": "markdown",
   "id": "62b94cf7-c3fa-481c-90d9-14867704c495",
   "metadata": {},
   "source": [
    "# Implementation of Freerider Detection using Quantum Computer\n",
    "\n",
    "Through this notebook, I demonstarete quantum energy teleportation and implement the verification of energy consumption algorithm. \n",
    "\n",
    "Documentation: Ikeda, Kazuki, \"Quantum Games and Economics through Teleportation\" (March 06, 2025). Available at SSRN: https://ssrn.com/abstract_id=5168193\n",
    "\n",
    "Copy right: Prof. Ikeda at UMass Boston (kazuki.ikeda@umb.edu)\n",
    "Website: https://kazukiikeda.studio.site/"
   ]
  },
  {
   "cell_type": "code",
   "execution_count": 1,
   "id": "155975f4-2cf9-49d9-b037-7fab4f2255d5",
   "metadata": {},
   "outputs": [],
   "source": [
    "from QET import *"
   ]
  },
  {
   "cell_type": "markdown",
   "id": "d292b35a-e541-48b7-b2c3-50a300891ddb",
   "metadata": {},
   "source": [
    "# Chose backend"
   ]
  },
  {
   "cell_type": "code",
   "execution_count": 2,
   "id": "18d5d1bb-c7e2-42fd-aba1-56069d966f46",
   "metadata": {},
   "outputs": [],
   "source": [
    "simulator = Aer.get_backend('qasm_simulator')\n",
    "pm = generate_preset_pass_manager(backend=simulator, optimization_level=3)\n",
    "estimator = Estimator(simulator)"
   ]
  },
  {
   "cell_type": "markdown",
   "id": "cf4a082e-7497-4ab7-8a22-7a9418c708dd",
   "metadata": {},
   "source": [
    "# Generate the ground state"
   ]
  },
  {
   "cell_type": "code",
   "execution_count": 3,
   "id": "324300bb-3dfa-4c96-b76e-eb619b1d69ec",
   "metadata": {},
   "outputs": [],
   "source": [
    "# Set parameters\n",
    "k=1\n",
    "h=1.5"
   ]
  },
  {
   "cell_type": "code",
   "execution_count": 4,
   "id": "54427236-f4a0-47e5-90f4-95ab451896fb",
   "metadata": {},
   "outputs": [
    {
     "data": {
      "image/png": "[encoded data removed]",
      "text/plain": [
       "<Figure size 305.525x200.667 with 1 Axes>"
      ]
     },
     "execution_count": 4,
     "metadata": {},
     "output_type": "execute_result"
    }
   ],
   "source": [
    "GS_Simulation = pm.run(minimal_model_ground_state_circuit(k,h))\n",
    "GS_Simulation.draw(\"mpl\", idle_wires=False)"
   ]
  },
  {
   "cell_type": "code",
   "execution_count": 5,
   "id": "d5bf7013-3143-41af-b5db-a6a06e2f3e60",
   "metadata": {},
   "outputs": [],
   "source": [
    "observables_list=['XX','ZI','IZ']\n",
    "observables=[SparsePauliOp(label) for label in observables_list]\n",
    "mapped_observable = [observable.apply_layout(GS_Simulation.layout) for observable in observables]"
   ]
  },
  {
   "cell_type": "code",
   "execution_count": 6,
   "id": "6e141024-fdaf-4aeb-94cc-2664bb5f6455",
   "metadata": {},
   "outputs": [],
   "source": [
    "GS_energy_Simulation = estimator.run([(GS_Simulation,mapped_observable)])"
   ]
  },
  {
   "cell_type": "code",
   "execution_count": 7,
   "id": "37015a00-3d66-4283-abe4-f18b92804274",
   "metadata": {},
   "outputs": [
    {
     "data": {
      "text/plain": [
       "array([-0.55126953, -0.84130859, -0.84130859])"
      ]
     },
     "execution_count": 7,
     "metadata": {},
     "output_type": "execute_result"
    }
   ],
   "source": [
    "result_Simulation=GS_energy_Simulation.result()\n",
    "gs_energy_Simulation=result_Simulation[0].data.evs\n",
    "\n",
    "gs_energy_Simulation"
   ]
  },
  {
   "cell_type": "code",
   "execution_count": 8,
   "id": "b25b6754-4b64-42f4-bce8-88157389eafd",
   "metadata": {},
   "outputs": [
    {
     "data": {
      "text/plain": [
       "-1.1025390625"
      ]
     },
     "execution_count": 8,
     "metadata": {},
     "output_type": "execute_result"
    }
   ],
   "source": [
    "2*k*gs_energy_Simulation[0]"
   ]
  },
  {
   "cell_type": "code",
   "execution_count": 9,
   "id": "5a062ae1-0bca-4ee6-a490-053ebdc01394",
   "metadata": {},
   "outputs": [
    {
     "data": {
      "text/plain": [
       "-2.364501953125"
      ]
     },
     "execution_count": 9,
     "metadata": {},
     "output_type": "execute_result"
    }
   ],
   "source": [
    "Initial_Energy_Consumer=2*k*gs_energy_Simulation[0]+h*gs_energy_Simulation[1]\n",
    "Initial_Energy_Consumer"
   ]
  },
  {
   "cell_type": "code",
   "execution_count": 10,
   "id": "8e16754f-e140-4852-a878-505a89e4894a",
   "metadata": {},
   "outputs": [
    {
     "data": {
      "text/plain": [
       "-1.261962890625"
      ]
     },
     "execution_count": 10,
     "metadata": {},
     "output_type": "execute_result"
    }
   ],
   "source": [
    "Initial_Energy_Supplier=h*gs_energy_Simulation[2]\n",
    "Initial_Energy_Supplier"
   ]
  },
  {
   "cell_type": "markdown",
   "id": "5b8d2c71-a0eb-4678-b5aa-2f8c4c067e7c",
   "metadata": {},
   "source": [
    "# Quantum Energy Teleportation"
   ]
  },
  {
   "cell_type": "code",
   "execution_count": 11,
   "id": "0a57a9fb-88da-4740-99e3-26926540f977",
   "metadata": {},
   "outputs": [
    {
     "data": {
      "image/png": "[encoded data removed]",
      "text/plain": [
       "<Figure size 1058.23x200.667 with 1 Axes>"
      ]
     },
     "execution_count": 11,
     "metadata": {},
     "output_type": "execute_result"
    }
   ],
   "source": [
    "QET_Simulation = pm.run(QET_Estimator(k,h))\n",
    "QET_Simulation.draw(\"mpl\", idle_wires=False)"
   ]
  },
  {
   "cell_type": "code",
   "execution_count": 12,
   "id": "ccb1ef51-ea8a-41da-8f28-058dae64579f",
   "metadata": {},
   "outputs": [],
   "source": [
    "observables_list=['XZ','ZI','IZ']\n",
    "observables=[SparsePauliOp(label) for label in observables_list]\n",
    "mapped_observable = [observable.apply_layout(QET_Simulation.layout) for observable in observables]"
   ]
  },
  {
   "cell_type": "code",
   "execution_count": 13,
   "id": "90a47f8f-fd5b-41d6-b176-049d4ee81691",
   "metadata": {},
   "outputs": [],
   "source": [
    "QET_energy_Simulation= estimator.run([(QET_Simulation,mapped_observable)])"
   ]
  },
  {
   "cell_type": "code",
   "execution_count": 14,
   "id": "9964aac2-55e4-4f66-84cf-11b08989aa57",
   "metadata": {},
   "outputs": [
    {
     "data": {
      "text/plain": [
       "array([-0.78808594, -0.60302734, -0.00244141])"
      ]
     },
     "execution_count": 14,
     "metadata": {},
     "output_type": "execute_result"
    }
   ],
   "source": [
    "result=QET_energy_Simulation.result()\n",
    "QET_energy=result[0].data.evs\n",
    "\n",
    "QET_energy"
   ]
  },
  {
   "cell_type": "code",
   "execution_count": 15,
   "id": "605c899b-a416-4bef-9f71-b55826dbf1dc",
   "metadata": {},
   "outputs": [
    {
     "data": {
      "text/plain": [
       "-2.480712890625"
      ]
     },
     "execution_count": 15,
     "metadata": {},
     "output_type": "execute_result"
    }
   ],
   "source": [
    "Post_Energy_Consumer=2*k*QET_energy[0]+h*QET_energy[1]\n",
    "Post_Energy_Consumer"
   ]
  },
  {
   "cell_type": "code",
   "execution_count": 16,
   "id": "95ab119e-1f7e-481c-8e73-5d7b136ff5dd",
   "metadata": {},
   "outputs": [
    {
     "data": {
      "text/plain": [
       "-0.1162109375"
      ]
     },
     "execution_count": 16,
     "metadata": {},
     "output_type": "execute_result"
    }
   ],
   "source": [
    "Teleported_Energy=Post_Energy_Consumer-Initial_Energy_Consumer\n",
    "Teleported_Energy"
   ]
  },
  {
   "cell_type": "code",
   "execution_count": 17,
   "id": "ba56a2eb-96b9-4bdc-be29-6b3aaa69d6c4",
   "metadata": {},
   "outputs": [
    {
     "data": {
      "text/plain": [
       "1.25830078125"
      ]
     },
     "execution_count": 17,
     "metadata": {},
     "output_type": "execute_result"
    }
   ],
   "source": [
    "Post_Energy_Supplier=h*QET_energy[2]\n",
    "Injected_Energy=Post_Energy_Supplier-Initial_Energy_Supplier\n",
    "Injected_Energy"
   ]
  },
  {
   "cell_type": "markdown",
   "id": "adfdc387-5f42-48f4-bbe6-d20b3969879c",
   "metadata": {},
   "source": [
    "# Combine QET with QST to confirm energy consumption"
   ]
  },
  {
   "cell_type": "markdown",
   "id": "abe4052b-e8ce-4074-8936-8d438ae2c94a",
   "metadata": {},
   "source": [
    "## Confirm energy consumption "
   ]
  },
  {
   "cell_type": "code",
   "execution_count": 18,
   "id": "b248e067-d943-4402-a743-a46fafe24bdf",
   "metadata": {},
   "outputs": [
    {
     "data": {
      "image/png": "[encoded data removed]",
      "text/plain": [
       "<Figure size 1225.45x367.889 with 1 Axes>"
      ]
     },
     "execution_count": 18,
     "metadata": {},
     "output_type": "execute_result"
    }
   ],
   "source": [
    "Confirm_QET_Simulation = pm.run(QET_QST_Estimator(k,h))\n",
    "Confirm_QET_Simulation.draw(\"mpl\", idle_wires=False)"
   ]
  },
  {
   "cell_type": "code",
   "execution_count": 19,
   "id": "52e21a71-3913-427e-a0bc-449ac2bf6cf2",
   "metadata": {},
   "outputs": [],
   "source": [
    "observables_list=['XIIZ','ZIII']\n",
    "observables=[SparsePauliOp(label) for label in observables_list]\n",
    "mapped_observable = [observable.apply_layout(Confirm_QET_Simulation.layout) for observable in observables]"
   ]
  },
  {
   "cell_type": "code",
   "execution_count": 20,
   "id": "51bf61ca-d7d8-40b1-9f78-b60e9be88829",
   "metadata": {},
   "outputs": [],
   "source": [
    "Confirmed_energy_Simulation = estimator.run([(Confirm_QET_Simulation,mapped_observable)])"
   ]
  },
  {
   "cell_type": "code",
   "execution_count": 21,
   "id": "84b47897-3c82-48b5-853f-a25c04c83496",
   "metadata": {},
   "outputs": [
    {
     "data": {
      "text/plain": [
       "array([-0.80517578, -0.59912109])"
      ]
     },
     "execution_count": 21,
     "metadata": {},
     "output_type": "execute_result"
    }
   ],
   "source": [
    "result=Confirmed_energy_Simulation.result()\n",
    "Confirmed_energy=result[0].data.evs\n",
    "\n",
    "Confirmed_energy"
   ]
  },
  {
   "cell_type": "code",
   "execution_count": 22,
   "id": "4c0df5d3-9c03-490d-9cbe-66a3f6af9708",
   "metadata": {},
   "outputs": [
    {
     "data": {
      "text/plain": [
       "-0.14453125"
      ]
     },
     "execution_count": 22,
     "metadata": {},
     "output_type": "execute_result"
    }
   ],
   "source": [
    "Confirmed_Energy_Consumer=2*k*Confirmed_energy[0]+h*Confirmed_energy[1]\n",
    "Consumed_Energy=Confirmed_Energy_Consumer-Initial_Energy_Consumer\n",
    "Consumed_Energy"
   ]
  },
  {
   "cell_type": "code",
   "execution_count": 23,
   "id": "8563859f-f29e-4ff7-aabb-97cb92718d74",
   "metadata": {},
   "outputs": [
    {
     "data": {
      "text/plain": [
       "1.2436974789915967"
      ]
     },
     "execution_count": 23,
     "metadata": {},
     "output_type": "execute_result"
    }
   ],
   "source": [
    "ratio=Consumed_Energy/Teleported_Energy\n",
    "ratio"
   ]
  },
  {
   "cell_type": "markdown",
   "id": "b25fe8f2-a390-4b5b-8745-e53cfda83e39",
   "metadata": {},
   "source": [
    "## Confirmation of No Energy Consumption"
   ]
  },
  {
   "cell_type": "code",
   "execution_count": 24,
   "id": "77f261cb-1e7c-47b6-8f54-e30e772dd3e5",
   "metadata": {},
   "outputs": [
    {
     "data": {
      "image/png": "[encoded data removed]",
      "text/plain": [
       "<Figure size 574.791x367.889 with 1 Axes>"
      ]
     },
     "execution_count": 24,
     "metadata": {},
     "output_type": "execute_result"
    }
   ],
   "source": [
    "Confirm_NO_QET_Simulation = pm.run(Confirm_NO_QET_Estimator(k,h))\n",
    "Confirm_NO_QET_Estimator(k,h).draw(\"mpl\", idle_wires=False)"
   ]
  },
  {
   "cell_type": "code",
   "execution_count": 25,
   "id": "72d5d939-6601-4bce-946d-ec2bcd4e9c9d",
   "metadata": {},
   "outputs": [],
   "source": [
    "Confirmed_energy_Simulation = estimator.run([(Confirm_NO_QET_Simulation,mapped_observable)])"
   ]
  },
  {
   "cell_type": "code",
   "execution_count": 26,
   "id": "d6987fc8-42e8-4747-b5bd-557db5290560",
   "metadata": {},
   "outputs": [
    {
     "data": {
      "text/plain": [
       "array([-0.55175781, -0.83056641])"
      ]
     },
     "execution_count": 26,
     "metadata": {},
     "output_type": "execute_result"
    }
   ],
   "source": [
    "result=Confirmed_energy_Simulation.result()\n",
    "Confirmed_energy=result[0].data.evs\n",
    "\n",
    "Confirmed_energy"
   ]
  },
  {
   "cell_type": "code",
   "execution_count": 27,
   "id": "10616687-8580-4740-b879-c33aa36862da",
   "metadata": {},
   "outputs": [
    {
     "data": {
      "text/plain": [
       "0.01513671875"
      ]
     },
     "execution_count": 27,
     "metadata": {},
     "output_type": "execute_result"
    }
   ],
   "source": [
    "Confirmed_Energy_Consumer=2*k*Confirmed_energy[0]+h*Confirmed_energy[1]\n",
    "Consumed_Energy=Confirmed_Energy_Consumer-Initial_Energy_Consumer\n",
    "Consumed_Energy"
   ]
  },
  {
   "cell_type": "markdown",
   "id": "276f54ff-4383-4b06-87d8-fb8f4f18fc68",
   "metadata": {},
   "source": [
    "# Experiment by Quantum Computer"
   ]
  },
  {
   "cell_type": "code",
   "execution_count": 57,
   "id": "058aa557-f18f-4fb5-b83a-d0d80a3ef043",
   "metadata": {},
   "outputs": [],
   "source": [
    "# Enable your account on Qiskit, replace 'My_API_Token' with your newly generated token\n",
    "from qiskit_ibm_experiment import IBMExperimentService\n",
    "My_API_Token='Your token'\n",
    "IBMExperimentService.save_account(token=My_API_Token,overwrite=True)"
   ]
  },
  {
   "cell_type": "markdown",
   "id": "8bddb6d2-0a50-4909-b8ba-de1e5cd0dc11",
   "metadata": {},
   "source": [
    "## Quantum Hardware"
   ]
  },
  {
   "cell_type": "code",
   "execution_count": 161,
   "id": "98ecf2ad-7591-499a-ae5d-56bf5c8619d9",
   "metadata": {},
   "outputs": [
    {
     "name": "stdout",
     "output_type": "stream",
     "text": [
      "The history saving thread hit an unexpected error (OperationalError('attempt to write a readonly database')).History will not be written to the database.\n",
      "Available backends: [<IBMBackend('ibm_brisbane')>, <IBMBackend('ibm_brussels')>, <IBMBackend('ibm_fez')>, <IBMBackend('ibm_kyiv')>, <IBMBackend('ibm_marrakesh')>, <IBMBackend('ibm_sherbrooke')>, <IBMBackend('ibm_strasbourg')>, <IBMBackend('ibm_torino')>]\n",
      "Name: ibm_sherbrooke\n"
     ]
    }
   ],
   "source": [
    "# Initialize the Qiskit runtime service\n",
    "service = QiskitRuntimeService()\n",
    "available_backends=service.backends()\n",
    "backend = service.least_busy()\n",
    "session = Session(backend=backend)\n",
    "estimator = Estimator(mode=session)\n",
    "sampler = Sampler(mode=session)\n",
    "\n",
    "# Backend details\n",
    "print(\"Available backends:\",available_backends)\n",
    "print(\"Name:\", backend.name)"
   ]
  },
  {
   "cell_type": "code",
   "execution_count": 59,
   "id": "ca9858f2-af0b-4408-ba14-6388f2e11824",
   "metadata": {},
   "outputs": [],
   "source": [
    "service = QiskitRuntimeService()\n",
    "#backend = service.backend(\"ibm_marrakesh\")\n",
    "backend = service.backend('ibm_strasbourg')\n",
    "session = Session(backend=backend)\n",
    "estimator = Estimator(mode=session)\n",
    "sampler = Sampler(mode=session)"
   ]
  },
  {
   "cell_type": "markdown",
   "id": "59d63afc-1af1-427c-bc0b-3010c2ab7fab",
   "metadata": {},
   "source": [
    "## Fake Hardware"
   ]
  },
  {
   "cell_type": "code",
   "execution_count": 33,
   "id": "7884280d-ff71-4470-ab41-e470832317cd",
   "metadata": {},
   "outputs": [],
   "source": [
    "from qiskit_ibm_runtime.fake_provider import FakeAlmadenV2\n",
    "#backend = FakeAlmadenV2()\n",
    "#backend = Aer.get_backend('qasm_simulator')\n",
    "backend = FakeSherbrooke()\n",
    "shots = int(1e4)\n",
    "estimator = Estimator(backend)\n",
    "estimator.options.resilience_level = 2"
   ]
  },
  {
   "cell_type": "markdown",
   "id": "252400af-e596-4fbc-bed5-a3ed30fa8690",
   "metadata": {},
   "source": [
    "## Pass Managers"
   ]
  },
  {
   "cell_type": "code",
   "execution_count": 65,
   "id": "7b024d68-71ef-4422-ad89-d5dd432aaebf",
   "metadata": {},
   "outputs": [],
   "source": [
    "pm1 = generate_preset_pass_manager(backend=backend, optimization_level=3, initial_layout=[119,120])\n",
    "pm2 = generate_preset_pass_manager(backend=backend, optimization_level=3, initial_layout=[119,120,121,122])\n",
    "                                                                            "
   ]
  },
  {
   "cell_type": "markdown",
   "id": "6ec0325a-b764-4526-ac33-3c7709a90e0c",
   "metadata": {},
   "source": [
    "## Ground State"
   ]
  },
  {
   "cell_type": "code",
   "execution_count": 35,
   "id": "89760236-b186-4eca-b9a6-504d7e5e54c4",
   "metadata": {},
   "outputs": [
    {
     "data": {
      "image/png": "[encoded data removed]",
      "text/plain": [
       "<Figure size 896.739x200.667 with 1 Axes>"
      ]
     },
     "execution_count": 35,
     "metadata": {},
     "output_type": "execute_result"
    }
   ],
   "source": [
    "GS_QC = pm1.run(minimal_model_ground_state_circuit(k,h))\n",
    "GS_QC.draw(\"mpl\", idle_wires=False)"
   ]
  },
  {
   "cell_type": "code",
   "execution_count": 36,
   "id": "c9ef4df1-66af-4451-a603-0db7ab460376",
   "metadata": {},
   "outputs": [],
   "source": [
    "observables_list=['XZ','ZI','IZ']\n",
    "observables=[SparsePauliOp(label) for label in observables_list]\n",
    "mapped_observable = [observable.apply_layout(GS_QC.layout) for observable in observables]"
   ]
  },
  {
   "cell_type": "code",
   "execution_count": 37,
   "id": "f87277bc-ba26-4d54-9a9a-7ecec47e76a4",
   "metadata": {},
   "outputs": [
    {
     "name": "stderr",
     "output_type": "stream",
     "text": [
      "/Users/kazukiikeda/.pyenv/versions/3.12.1/lib/python3.12/site-packages/qiskit_ibm_runtime/fake_provider/local_service.py:186: UserWarning: The resilience_level option has no effect in local testing mode.\n",
      "  warnings.warn(\"The resilience_level option has no effect in local testing mode.\")\n"
     ]
    }
   ],
   "source": [
    "GS_energy_QC = estimator.run([(GS_QC,mapped_observable)])"
   ]
  },
  {
   "cell_type": "code",
   "execution_count": 38,
   "id": "15c24083-121a-4c5c-bec4-10b5619f927d",
   "metadata": {},
   "outputs": [
    {
     "data": {
      "text/plain": [
       "array([-0.00732422, -0.75341797, -0.76269531])"
      ]
     },
     "execution_count": 38,
     "metadata": {},
     "output_type": "execute_result"
    }
   ],
   "source": [
    "result=GS_energy_QC.result()\n",
    "gs_energy=result[0].data.evs\n",
    "\n",
    "gs_energy"
   ]
  },
  {
   "cell_type": "code",
   "execution_count": 39,
   "id": "bcdc6ba1-2ea1-4cce-95b7-c15a5335c635",
   "metadata": {},
   "outputs": [
    {
     "data": {
      "text/plain": [
       "-1.144775390625"
      ]
     },
     "execution_count": 39,
     "metadata": {},
     "output_type": "execute_result"
    }
   ],
   "source": [
    "Initial_Energy_Consumer=2*k*gs_energy[0]+h*gs_energy[1]\n",
    "Initial_Energy_Consumer"
   ]
  },
  {
   "cell_type": "code",
   "execution_count": 40,
   "id": "75aa1ea2-14d0-4936-b021-4ea9a0448571",
   "metadata": {},
   "outputs": [
    {
     "data": {
      "text/plain": [
       "-1.14404296875"
      ]
     },
     "execution_count": 40,
     "metadata": {},
     "output_type": "execute_result"
    }
   ],
   "source": [
    "Initial_Energy_Supplier=h*gs_energy[2]\n",
    "Initial_Energy_Supplier"
   ]
  },
  {
   "cell_type": "markdown",
   "id": "7f9fbda7-5ece-44e9-bc89-5ea4487d8a89",
   "metadata": {},
   "source": [
    "## QET"
   ]
  },
  {
   "cell_type": "code",
   "execution_count": 41,
   "id": "a0899ca4-568d-465c-9fc1-a85139e2a66b",
   "metadata": {},
   "outputs": [
    {
     "data": {
      "image/png": "[encoded data removed]",
      "text/plain": [
       "<Figure size 1314.79x200.667 with 1 Axes>"
      ]
     },
     "execution_count": 41,
     "metadata": {},
     "output_type": "execute_result"
    }
   ],
   "source": [
    "QET_QC = pm1.run(QET_Estimator(k,h))\n",
    "QET_QC.draw(\"mpl\", idle_wires=False)"
   ]
  },
  {
   "cell_type": "code",
   "execution_count": 42,
   "id": "0187e995-daee-44f5-8205-e7b63ff06806",
   "metadata": {},
   "outputs": [],
   "source": [
    "observables_list=['XZ','ZI','IZ']\n",
    "observables=[SparsePauliOp(label) for label in observables_list]\n",
    "mapped_observable = [observable.apply_layout(QET_QC.layout) for observable in observables]"
   ]
  },
  {
   "cell_type": "code",
   "execution_count": 43,
   "id": "c401446b-1722-4cbf-bb1b-9ecee67d66e0",
   "metadata": {},
   "outputs": [
    {
     "name": "stderr",
     "output_type": "stream",
     "text": [
      "/Users/kazukiikeda/.pyenv/versions/3.12.1/lib/python3.12/site-packages/qiskit_ibm_runtime/fake_provider/local_service.py:186: UserWarning: The resilience_level option has no effect in local testing mode.\n",
      "  warnings.warn(\"The resilience_level option has no effect in local testing mode.\")\n"
     ]
    }
   ],
   "source": [
    "QET_energy_QC = estimator.run([(QET_QC,mapped_observable)])"
   ]
  },
  {
   "cell_type": "code",
   "execution_count": 44,
   "id": "12dcb140-74de-4084-b8c8-f6065a71800c",
   "metadata": {},
   "outputs": [
    {
     "data": {
      "text/plain": [
       "array([-0.68359375, -0.52490234,  0.00683594])"
      ]
     },
     "execution_count": 44,
     "metadata": {},
     "output_type": "execute_result"
    }
   ],
   "source": [
    "result=QET_energy_QC.result()\n",
    "QET_energy=result[0].data.evs\n",
    "\n",
    "QET_energy"
   ]
  },
  {
   "cell_type": "code",
   "execution_count": 45,
   "id": "d5d5d550-544e-490b-a474-8f9cf979542d",
   "metadata": {},
   "outputs": [
    {
     "data": {
      "text/plain": [
       "-2.154541015625"
      ]
     },
     "execution_count": 45,
     "metadata": {},
     "output_type": "execute_result"
    }
   ],
   "source": [
    "Post_Energy_Consumer=2*k*QET_energy[0]+h*QET_energy[1]\n",
    "Post_Energy_Consumer"
   ]
  },
  {
   "cell_type": "code",
   "execution_count": 46,
   "id": "5190523c-58c6-42b0-8517-390e596fcf40",
   "metadata": {},
   "outputs": [
    {
     "data": {
      "text/plain": [
       "-1.009765625"
      ]
     },
     "execution_count": 46,
     "metadata": {},
     "output_type": "execute_result"
    }
   ],
   "source": [
    "Teleported_Energy=Post_Energy_Consumer-Initial_Energy_Consumer\n",
    "Teleported_Energy"
   ]
  },
  {
   "cell_type": "code",
   "execution_count": 47,
   "id": "973c9218-5b2a-4275-8dbd-b0d009fde093",
   "metadata": {},
   "outputs": [
    {
     "data": {
      "text/plain": [
       "1.154296875"
      ]
     },
     "execution_count": 47,
     "metadata": {},
     "output_type": "execute_result"
    }
   ],
   "source": [
    "Post_Energy_Supplier=h*QET_energy[2]\n",
    "Injected_Energy=Post_Energy_Supplier-Initial_Energy_Supplier\n",
    "Injected_Energy"
   ]
  },
  {
   "cell_type": "markdown",
   "id": "e58ac76a-506b-47d1-a734-09ac00059a7c",
   "metadata": {},
   "source": [
    "## Confirm Energy"
   ]
  },
  {
   "cell_type": "code",
   "execution_count": 48,
   "id": "e7ef8ad7-14d1-4eba-8fa1-cdc6428d305a",
   "metadata": {},
   "outputs": [
    {
     "data": {
      "image/png": "[encoded data removed]",
      "text/plain": [
       "<Figure size 2318.53x785.944 with 1 Axes>"
      ]
     },
     "execution_count": 48,
     "metadata": {},
     "output_type": "execute_result"
    }
   ],
   "source": [
    "Confirm_QET_QC = pm2.run(QET_QST_Estimator(k,h))\n",
    "Confirm_QET_QC.draw(\"mpl\", idle_wires=False)"
   ]
  },
  {
   "cell_type": "code",
   "execution_count": 49,
   "id": "896a37ca-3452-407c-b855-8dac329589fa",
   "metadata": {},
   "outputs": [],
   "source": [
    "observables_list=['XIIZ','ZIII']\n",
    "observables=[SparsePauliOp(label) for label in observables_list]\n",
    "mapped_observable = [observable.apply_layout(Confirm_QET_QC.layout) for observable in observables]"
   ]
  },
  {
   "cell_type": "code",
   "execution_count": 50,
   "id": "4232df4c-4491-4853-a3d1-0dfe12a9e59f",
   "metadata": {},
   "outputs": [
    {
     "name": "stderr",
     "output_type": "stream",
     "text": [
      "/Users/kazukiikeda/.pyenv/versions/3.12.1/lib/python3.12/site-packages/qiskit_ibm_runtime/fake_provider/local_service.py:186: UserWarning: The resilience_level option has no effect in local testing mode.\n",
      "  warnings.warn(\"The resilience_level option has no effect in local testing mode.\")\n"
     ]
    }
   ],
   "source": [
    "Confirmed_energy_QC = estimator.run([(Confirm_QET_QC,mapped_observable)])"
   ]
  },
  {
   "cell_type": "code",
   "execution_count": 51,
   "id": "9d0975b5-3c7a-4954-8d76-062a75c62019",
   "metadata": {},
   "outputs": [
    {
     "data": {
      "text/plain": [
       "array([-0.64257812, -0.48876953])"
      ]
     },
     "execution_count": 51,
     "metadata": {},
     "output_type": "execute_result"
    }
   ],
   "source": [
    "result=Confirmed_energy_QC.result()\n",
    "Confirmed_energy=result[0].data.evs\n",
    "\n",
    "Confirmed_energy"
   ]
  },
  {
   "cell_type": "code",
   "execution_count": 52,
   "id": "c3504ca1-0c34-4a87-9f92-7fe749a70ac7",
   "metadata": {},
   "outputs": [
    {
     "data": {
      "text/plain": [
       "-0.87353515625"
      ]
     },
     "execution_count": 52,
     "metadata": {},
     "output_type": "execute_result"
    }
   ],
   "source": [
    "Confirmed_Energy_Consumer=2*k*Confirmed_energy[0]+h*Confirmed_energy[1]\n",
    "Consumed_Energy=Confirmed_Energy_Consumer-Initial_Energy_Consumer\n",
    "Consumed_Energy"
   ]
  },
  {
   "cell_type": "code",
   "execution_count": 53,
   "id": "b212d0af-2cbc-4681-b8a9-83a07b3d9e80",
   "metadata": {},
   "outputs": [
    {
     "data": {
      "text/plain": [
       "0.8650870406189555"
      ]
     },
     "execution_count": 53,
     "metadata": {},
     "output_type": "execute_result"
    }
   ],
   "source": [
    "ratio=Consumed_Energy/Teleported_Energy\n",
    "ratio"
   ]
  },
  {
   "cell_type": "markdown",
   "id": "9c528641-a9fc-4b63-89aa-134aaf3d51a2",
   "metadata": {},
   "source": [
    "## Run QC"
   ]
  },
  {
   "cell_type": "code",
   "execution_count": null,
   "id": "1163af99-348c-4064-be86-8b1465342a5c",
   "metadata": {},
   "outputs": [],
   "source": []
  },
  {
   "cell_type": "code",
   "execution_count": null,
   "id": "61d4b459-9340-4bf8-9492-f960ddad953b",
   "metadata": {},
   "outputs": [],
   "source": []
  },
  {
   "cell_type": "code",
   "execution_count": null,
   "id": "6effa4b4-ffc3-4f38-b87b-7a2346bfef89",
   "metadata": {},
   "outputs": [],
   "source": [
    "# Initialize the Qiskit runtime service\n",
    "service = QiskitRuntimeService()\n",
    "available_backends=service.backends()\n",
    "backend = service.least_busy()\n",
    "session = Session(backend=backend)\n",
    "estimator = Estimator(mode=session)\n",
    "sampler = Sampler(mode=session)\n",
    "\n",
    "# Backend details\n",
    "print(\"Available backends:\",available_backends)\n",
    "print(\"Name:\", backend.name)\n",
    "\n",
    "estimator.options.resilience_level = 2\n",
    "estimator.options.default_shots = 100,000"
   ]
  },
  {
   "cell_type": "code",
   "execution_count": null,
   "id": "f008461e-b764-45ca-abcc-b512e340da92",
   "metadata": {},
   "outputs": [],
   "source": [
    "from qiskit_ibm_runtime.fake_provider import FakeAlmadenV2\n",
    "#backend = FakeAlmadenV2()\n",
    "#backend = Aer.get_backend('qasm_simulator')\n",
    "backend = FakeSherbrooke()\n",
    "shots = int(1e5)"
   ]
  },
  {
   "cell_type": "code",
   "execution_count": null,
   "id": "0dc4cce0-f3cf-4da2-b6de-9be727a45f19",
   "metadata": {},
   "outputs": [],
   "source": [
    "backend = FakeSherbrooke()"
   ]
  },
  {
   "cell_type": "code",
   "execution_count": 66,
   "id": "e46a636d-4c31-4f43-b1b4-c9d6b0d0a56a",
   "metadata": {},
   "outputs": [],
   "source": [
    "estimator.options.default_shots = 100000\n",
    "estimator = Estimator(backend)\n",
    "estimator.options.resilience_level = 2\n",
    "estimator.options.dynamical_decoupling.enable = True\n",
    "estimator.options.dynamical_decoupling.sequence_type = \"XpXm\"\n",
    "\n",
    "estimator.options.twirling.enable_gates = True\n",
    "estimator.options.twirling.num_randomizations = 32\n",
    "#estimator.options.twirling.shots_per_randomization = 100\n",
    "\n",
    "estimator.options.resilience.measure_mitigation = True\n",
    "estimator.options.resilience.measure_noise_learning.num_randomizations = 32\n",
    "estimator.options.resilience.measure_noise_learning.shots_per_randomization = 100\n",
    "\n",
    "estimator.options.resilience.zne_mitigation = True\n",
    "estimator.options.resilience.zne.noise_factors = (1, 2, 3)\n",
    "estimator.options.resilience.zne.extrapolator = \"linear\"\n",
    "\n",
    "estimator.options.resilience.zne_mitigation = True\n",
    "estimator.options.resilience.zne.amplifier = \"pea\"\n"
   ]
  },
  {
   "cell_type": "code",
   "execution_count": null,
   "id": "30b5a52f-f464-4220-98e1-366a7a83f97c",
   "metadata": {},
   "outputs": [],
   "source": []
  },
  {
   "cell_type": "code",
   "execution_count": 67,
   "id": "fd8fa61f-070b-4090-9c88-f74897d2189f",
   "metadata": {},
   "outputs": [],
   "source": [
    "pm1 = generate_preset_pass_manager(backend=backend, optimization_level=3, initial_layout=[119,120])\n",
    "pm2 = generate_preset_pass_manager(backend=backend, optimization_level=3, initial_layout=[119,120,121,122])"
   ]
  },
  {
   "cell_type": "code",
   "execution_count": 68,
   "id": "2e5ecfc2-48a0-49b6-a3aa-47b9b5eccdb2",
   "metadata": {},
   "outputs": [],
   "source": [
    "k=1\n",
    "h=1.5"
   ]
  },
  {
   "cell_type": "code",
   "execution_count": 69,
   "id": "b474fc17-e32b-4985-a719-ba6dc95d51f0",
   "metadata": {},
   "outputs": [],
   "source": [
    "GS_QC = pm1.run(minimal_model_ground_state_circuit(k,h))\n",
    "QET_QC = pm1.run(QET_Estimator(k,h))\n",
    "Confirm_QET_QC = pm2.run(QET_QST_Estimator(k,h))\n",
    "Confirm_NO_QET_QC = pm2.run(Confirm_NO_QET_Estimator(k,h))"
   ]
  },
  {
   "cell_type": "code",
   "execution_count": 70,
   "id": "7a784f9a-c62f-42a1-a983-0dd9029e64bd",
   "metadata": {},
   "outputs": [],
   "source": [
    "observables_list0=['XX','ZI','IZ']\n",
    "observables=[SparsePauliOp(label) for label in observables_list0]\n",
    "mapped_observable0 = [observable.apply_layout(GS_QC.layout) for observable in observables]\n",
    "\n",
    "observables_list1=['XZ','ZI','IZ']\n",
    "observables=[SparsePauliOp(label) for label in observables_list1]\n",
    "mapped_observable1 = [observable.apply_layout(QET_QC.layout) for observable in observables]\n",
    "\n",
    "observables_list2=['XIIZ','ZIII']\n",
    "observables=[SparsePauliOp(label) for label in observables_list2]\n",
    "mapped_observable2 = [observable.apply_layout(Confirm_QET_QC.layout) for observable in observables]\n",
    "\n",
    "observables_list2=['XIIZ','ZIII']\n",
    "observables=[SparsePauliOp(label) for label in observables_list2]\n",
    "mapped_observable3 = [observable.apply_layout(Confirm_NO_QET_QC.layout) for observable in observables]"
   ]
  },
  {
   "cell_type": "code",
   "execution_count": 71,
   "id": "1f47a15d-f8f1-4303-8c13-37a97d639a33",
   "metadata": {},
   "outputs": [
    {
     "name": "stdout",
     "output_type": "stream",
     "text": [
      ">>> Job ID: cyfjwk29b62g0081ws2g\n"
     ]
    }
   ],
   "source": [
    "# (GS_QC,mapped_observable0) Ground \n",
    "# (QET_QC,mapped_observable1) QET\n",
    "# (Confirm_QET_QC,mapped_observable2) Confirm QET\n",
    "# (Confirm_NO_QET_QC,mapped_observable3) Confirm no QET\n",
    "\n",
    "TEST_QC = estimator.run([(GS_QC,mapped_observable0),(QET_QC,mapped_observable1),(Confirm_QET_QC,mapped_observable2),(Confirm_NO_QET_QC,mapped_observable3)])\n",
    "print(f\">>> Job ID: {TEST_QC.job_id()}\")"
   ]
  },
  {
   "cell_type": "code",
   "execution_count": null,
   "id": "963035fc-5b9b-43e7-9324-76014e847945",
   "metadata": {},
   "outputs": [],
   "source": []
  },
  {
   "cell_type": "code",
   "execution_count": 72,
   "id": "e46f1529-9341-4105-a3e3-27caee3dd77f",
   "metadata": {},
   "outputs": [],
   "source": [
    "result=TEST_QC.result()\n",
    "#result[0].data.evs, result[0].data.stds"
   ]
  },
  {
   "cell_type": "code",
   "execution_count": 73,
   "id": "08fac9bc-f7b4-4831-8e56-673c5566bc24",
   "metadata": {},
   "outputs": [
    {
     "data": {
      "text/plain": [
       "-3.8481137457137806"
      ]
     },
     "execution_count": 73,
     "metadata": {},
     "output_type": "execute_result"
    }
   ],
   "source": [
    "# Ground State Energy\n",
    "Initial_Energy_Consumer=2*k*result[0].data.evs[0]+h*result[0].data.evs[1]\n",
    "Initial_Energy_Consumer"
   ]
  },
  {
   "cell_type": "code",
   "execution_count": 74,
   "id": "220d00bb-9220-46e7-b218-487eef35a5cd",
   "metadata": {},
   "outputs": [
    {
     "data": {
      "text/plain": [
       "-2.0156996791944635"
      ]
     },
     "execution_count": 74,
     "metadata": {},
     "output_type": "execute_result"
    }
   ],
   "source": [
    "Initial_Energy_Supplier=h*result[0].data.evs[2]\n",
    "Initial_Energy_Supplier"
   ]
  },
  {
   "cell_type": "code",
   "execution_count": 75,
   "id": "b74f30ff-2e68-4ae2-8658-299a29d3980c",
   "metadata": {},
   "outputs": [
    {
     "data": {
      "text/plain": [
       "(array([-1.30329403, -0.92686662,  0.02737266]),\n",
       " array([0.15791377, 0.33555245, 0.02711239]))"
      ]
     },
     "execution_count": 75,
     "metadata": {},
     "output_type": "execute_result"
    }
   ],
   "source": [
    "# Post Energy\n",
    "result[1].data.evs, result[1].data.stds"
   ]
  },
  {
   "cell_type": "code",
   "execution_count": 76,
   "id": "86fcd519-7002-41fa-92e6-8dee50266ef2",
   "metadata": {},
   "outputs": [
    {
     "data": {
      "text/plain": [
       "-3.996887994979174"
      ]
     },
     "execution_count": 76,
     "metadata": {},
     "output_type": "execute_result"
    }
   ],
   "source": [
    "Post_Energy_Consumer=2*k*result[1].data.evs[0]+h*result[1].data.evs[1]\n",
    "Post_Energy_Consumer"
   ]
  },
  {
   "cell_type": "code",
   "execution_count": 77,
   "id": "caaa00a0-1492-41a3-93e7-2a032d395f53",
   "metadata": {},
   "outputs": [
    {
     "data": {
      "text/plain": [
       "-0.14877424926539318"
      ]
     },
     "execution_count": 77,
     "metadata": {},
     "output_type": "execute_result"
    }
   ],
   "source": [
    "Teleported_Energy=Post_Energy_Consumer-Initial_Energy_Consumer\n",
    "Teleported_Energy"
   ]
  },
  {
   "cell_type": "code",
   "execution_count": 78,
   "id": "1756dd82-85b3-4192-a216-1efe05a37ac8",
   "metadata": {},
   "outputs": [
    {
     "data": {
      "text/plain": [
       "2.0772881748585803"
      ]
     },
     "execution_count": 78,
     "metadata": {},
     "output_type": "execute_result"
    }
   ],
   "source": [
    "Post_Energy_Supplier=h*h*result[1].data.evs[2]\n",
    "Injected_Energy=Post_Energy_Supplier-Initial_Energy_Supplier\n",
    "Injected_Energy"
   ]
  },
  {
   "cell_type": "code",
   "execution_count": 79,
   "id": "6eb20460-60dd-4bbe-9e95-3155b32b105a",
   "metadata": {},
   "outputs": [
    {
     "data": {
      "text/plain": [
       "(array([-0.9570403 , -0.70798499]), array([0.37250321, 0.35073205]))"
      ]
     },
     "execution_count": 79,
     "metadata": {},
     "output_type": "execute_result"
    }
   ],
   "source": [
    "result[2].data.evs, result[2].data.stds"
   ]
  },
  {
   "cell_type": "code",
   "execution_count": 80,
   "id": "bfd00225-d737-4825-995a-de71a0e4c4ae",
   "metadata": {},
   "outputs": [
    {
     "data": {
      "text/plain": [
       "(0.8720556578159226, -5.86160348394898)"
      ]
     },
     "execution_count": 80,
     "metadata": {},
     "output_type": "execute_result"
    }
   ],
   "source": [
    "Confirmed_Energy_Consumer=2*k*result[2].data.evs[0]+h*result[2].data.evs[1]\n",
    "Consumed_Energy=Confirmed_Energy_Consumer-Initial_Energy_Consumer\n",
    "Consumed_Energy, Consumed_Energy/Teleported_Energy"
   ]
  },
  {
   "cell_type": "code",
   "execution_count": null,
   "id": "4ed260de-1ef0-445c-934f-a4ee0a1bb3a4",
   "metadata": {},
   "outputs": [],
   "source": []
  },
  {
   "cell_type": "code",
   "execution_count": 81,
   "id": "1f574f69-45a3-453f-8278-2dd94370652a",
   "metadata": {},
   "outputs": [
    {
     "data": {
      "text/plain": [
       "(array([-0.6361117, -1.1242221]), array([0.24826187, 0.43729686]))"
      ]
     },
     "execution_count": 81,
     "metadata": {},
     "output_type": "execute_result"
    }
   ],
   "source": [
    "result[3].data.evs, result[3].data.stds"
   ]
  },
  {
   "cell_type": "code",
   "execution_count": 82,
   "id": "156ce4a4-e4aa-4f9c-9af6-25fae8a19cb5",
   "metadata": {},
   "outputs": [
    {
     "data": {
      "text/plain": [
       "0.8895572058201755"
      ]
     },
     "execution_count": 82,
     "metadata": {},
     "output_type": "execute_result"
    }
   ],
   "source": [
    "NO_Energy_Consumer=2*k*result[3].data.evs[0]+h*result[3].data.evs[1]\n",
    "NO_Consumed_Energy=NO_Energy_Consumer-Initial_Energy_Consumer\n",
    "NO_Consumed_Energy"
   ]
  },
  {
   "cell_type": "code",
   "execution_count": null,
   "id": "1e27777b-4c44-4374-a0bb-4503d2331140",
   "metadata": {},
   "outputs": [],
   "source": []
  },
  {
   "cell_type": "code",
   "execution_count": null,
   "id": "d800937e-b184-411d-9100-08431325a54e",
   "metadata": {},
   "outputs": [],
   "source": []
  },
  {
   "cell_type": "code",
   "execution_count": null,
   "id": "a6fa4322-ff52-4518-8a1f-3699e91a74a8",
   "metadata": {},
   "outputs": [],
   "source": []
  },
  {
   "cell_type": "code",
   "execution_count": null,
   "id": "1a898a4c-c05d-462d-bbcc-4c6c2bad000b",
   "metadata": {},
   "outputs": [],
   "source": []
  }
 ],
 "metadata": {
  "kernelspec": {
   "display_name": "Python 3 (ipykernel)",
   "language": "python",
   "name": "python3"
  },
  "language_info": {
   "codemirror_mode": {
    "name": "ipython",
    "version": 3
   },
   "file_extension": ".py",
   "mimetype": "text/x-python",
   "name": "python",
   "nbconvert_exporter": "python",
   "pygments_lexer": "ipython3",
   "version": "3.12.1"
  }
 },
 "nbformat": 4,
 "nbformat_minor": 5
}
